{
 "cells": [
  {
   "cell_type": "code",
   "execution_count": 213,
   "metadata": {},
   "outputs": [
    {
     "name": "stdout",
     "output_type": "stream",
     "text": [
      "The autoreload extension is already loaded. To reload it, use:\n",
      "  %reload_ext autoreload\n"
     ]
    }
   ],
   "source": [
    "import torch\n",
    "import torch.nn as nn\n",
    "from IPython.display import clear_output\n",
    "from IPython.core.debugger import set_trace\n",
    "from torch.nn import functional as F\n",
    "from torch import optim\n",
    "import math\n",
    "%load_ext autoreload\n",
    "%autoreload 2\n",
    "import dlc_practical_prologue as dl"
   ]
  },
  {
   "cell_type": "code",
   "execution_count": 17,
   "metadata": {},
   "outputs": [
    {
     "name": "stdout",
     "output_type": "stream",
     "text": [
      "* Using MNIST\n",
      "** Reduce the data-set (use --full for the full thing)\n",
      "** Use 1000 train and 1000 test samples\n"
     ]
    }
   ],
   "source": [
    "train_input, train_target, test_input, test_target = dl.load_data(flatten=False)\n",
    "train_input = torch.functional.F.avg_pool2d(train_input, kernel_size = 2)\n",
    "test_input = torch.functional.F.avg_pool2d(test_input, kernel_size = 2)"
   ]
  },
  {
   "cell_type": "code",
   "execution_count": 18,
   "metadata": {},
   "outputs": [],
   "source": [
    "class LeNet(nn.Module):\n",
    "    def __init__(self):\n",
    "        super(LeNet, self).__init__()\n",
    "        self.block1 = nn.Sequential(nn.Conv2d(1,32, kernel_size=5,stride=1),\n",
    "                                    nn.MaxPool2d(kernel_size=2,stride=2),\n",
    "                                    nn.BatchNorm2d(32),\n",
    "                                    nn.ReLU())\n",
    "        self.block2 = nn.Sequential(nn.Conv2d(32,16, kernel_size=5,stride=1),\n",
    "                                    nn.MaxPool2d(kernel_size=2,stride=2),\n",
    "                                    nn.BatchNorm2d(16),\n",
    "                                    nn.ReLU())\n",
    "        self.lins = nn.Sequential(nn.Linear(256, 84),\n",
    "                                  nn.ReLU(),\n",
    "                                  nn.Linear(84, 10))\n",
    "\n",
    "    def forward(self, x):\n",
    "        x = self.block1(x)\n",
    "        x = self.block2(x)\n",
    "        x = self.lins(x.view(-1,256))\n",
    "        return x"
   ]
  },
  {
   "cell_type": "code",
   "execution_count": 24,
   "metadata": {},
   "outputs": [],
   "source": [
    "class Net2(nn.Module):\n",
    "    def __init__(self,n_hidden = 100,chan = 1):\n",
    "        super(Net2,self).__init__()\n",
    "        self.hidden = n_hidden\n",
    "        self.conv_block1 = nn.Sequential(\n",
    "            nn.Conv2d(chan,32,kernel_size=3),\n",
    "            nn.MaxPool2d(kernel_size=2,stride=2),\n",
    "            nn.BatchNorm2d(32),\n",
    "            nn.ReLU()\n",
    "        )\n",
    "        self.conv_block2 = nn.Sequential(\n",
    "            nn.Conv2d(32,64,kernel_size=3),\n",
    "            nn.MaxPool2d(kernel_size=2,stride=2)\n",
    "            ,nn.BatchNorm2d(64)\n",
    "        )\n",
    "        self.classifier = nn.Sequential(\n",
    "            nn.Linear(2,n_hidden),\n",
    "           # nn.Dropout(0.5),\n",
    "            nn.Linear(n_hidden,10)\n",
    "            #nn.Softmax2d()\n",
    "        )\n",
    "    def forward(self,x):\n",
    "        x = self.conv_block1(x)\n",
    "        x = self.conv_block2(x)\n",
    "        x = self.classifier(x.view(x.size(0),-1))\n",
    "        return x"
   ]
  },
  {
   "cell_type": "code",
   "execution_count": 20,
   "metadata": {},
   "outputs": [],
   "source": [
    "def train_model(model,train_input,train_target,nb_epochs=5):\n",
    "    optimizer = optim.SGD(model.parameters(), lr = 1e-1)\n",
    "    batch_size = 100\n",
    "    criterion = nn.CrossEntropyLoss()\n",
    "    for e in range(nb_epochs):\n",
    "        clear_output(wait=True)\n",
    "        print(\"Progression:{:.2f}\".format(e/nb_epochs*100))\n",
    "        for inputs,targets in zip(train_input.split(batch_size),\n",
    "                            train_target.split(batch_size)):\n",
    "            output = model(inputs)\n",
    "            loss = criterion(output,targets)\n",
    "            model.zero_grad()\n",
    "            loss.backward()\n",
    "            optimizer.step()"
   ]
  },
  {
   "cell_type": "code",
   "execution_count": 21,
   "metadata": {},
   "outputs": [],
   "source": [
    "def get_accuracy(model,inputs,targets):\n",
    "    assert(inputs.size(0) == targets.size(0))\n",
    "    tot_loss = 0\n",
    "    nb_correct = 0\n",
    "    batch_size = 20\n",
    "    for train,target in zip(inputs.split(batch_size),\n",
    "                           targets.split(batch_size)):\n",
    "        pred = model(train)\n",
    "        pred = torch.argmax(pred,axis = 1)\n",
    "        nb_correct += (pred == target).int().sum().item()\n",
    "    accuracy = nb_correct /inputs.size(0)\n",
    "    print(\"accuracy: %.2f\" % (accuracy) )\n",
    "    return accuracy"
   ]
  },
  {
   "cell_type": "code",
   "execution_count": 22,
   "metadata": {},
   "outputs": [],
   "source": [
    "def Kfold_CV(classtype,inputs,targets,K=4):\n",
    "    assert(K>=2)\n",
    "    N = inputs.size(0)\n",
    "    indxes = torch.randperm(N)\\\n",
    "                  .split(int(N/K))\n",
    "    accs = torch.empty(K)\n",
    "    for k in range(K):\n",
    "        model = classtype()\n",
    "        \n",
    "        test_indx = indxes[k]\n",
    "        train_indx = torch.cat((indxes[:k]+indxes[k+1:]),0)\n",
    "        \n",
    "        train_inp,train_targ = inputs[train_indx],targets[train_indx]\n",
    "        test_inp,test_targ = inputs[test_indx],targets[test_indx]\n",
    "        train_model(model,train_inp,train_targ)\n",
    "        acc = get_accuracy(model,train_inp,train_targ)\n",
    "        accs[k] = acc\n",
    "    print(\"Accuracies for {}-fold:{}\".format(K,accs.tolist()))\n",
    "    print(\"Mean acc:{}\".format(accs.mean()))"
   ]
  },
  {
   "cell_type": "code",
   "execution_count": 25,
   "metadata": {},
   "outputs": [
    {
     "name": "stdout",
     "output_type": "stream",
     "text": [
      "Progression:80.00\n",
      "accuracy: 0.99\n"
     ]
    },
    {
     "data": {
      "text/plain": [
       "0.995"
      ]
     },
     "execution_count": 25,
     "metadata": {},
     "output_type": "execute_result"
    }
   ],
   "source": [
    "model = Net2()\n",
    "train_model(model,train_input,train_target)\n",
    "get_accuracy(model,train_input,train_target)"
   ]
  },
  {
   "cell_type": "code",
   "execution_count": 26,
   "metadata": {},
   "outputs": [
    {
     "name": "stdout",
     "output_type": "stream",
     "text": [
      "Progression:80.00\n",
      "accuracy: 0.99\n",
      "Accuracies for 4-fold:[0.9866666793823242, 0.9879999756813049, 0.9906666874885559, 0.9893333315849304]\n",
      "Mean acc:0.9886666536331177\n"
     ]
    }
   ],
   "source": [
    "Kfold_CV(Net2,train_input,train_target)"
   ]
  },
  {
   "cell_type": "markdown",
   "metadata": {},
   "source": [
    "## Dealing with double Images"
   ]
  },
  {
   "cell_type": "code",
   "execution_count": 267,
   "metadata": {},
   "outputs": [],
   "source": [
    "sep = \"#\" * 20"
   ]
  },
  {
   "cell_type": "code",
   "execution_count": 413,
   "metadata": {},
   "outputs": [],
   "source": [
    "def accuracy_double_model(model,train_input,train_target,train_classes,verbose=False):\n",
    "    assert(train_input.size(0) == train_target.size(0))\n",
    "    N = train_input.size(0)\n",
    "    tot_loss = 0\n",
    "    nb_correct = 0\n",
    "    batch_size = 20\n",
    "    \n",
    "    #given a prediction powre and the target, output the number of correctly classified samples\n",
    "    add_res = lambda pred,target:(torch.argmax(pred,axis = 1) == target).int().sum().item()\n",
    "    \n",
    "    score0 = 0\n",
    "    score1 = 0\n",
    "    scorecomp = 0\n",
    "    \n",
    "    for inputs,comp_targs,classes in zip(train_input.split(batch_size),\n",
    "                                           train_target.split(batch_size),\n",
    "                                        train_classes.split(batch_size)):\n",
    "        targ0 = classes[:,0]\n",
    "        targ1 = classes[:,1]\n",
    "        x0,x1,comp = model(inputs)\n",
    "        \n",
    "        score0 += add_res(x0,targ0)\n",
    "        score1 += add_res(x1,targ1)\n",
    "        scorecomp += add_res(comp,comp_targs)\n",
    "        \n",
    "    acc0 = score0 / N\n",
    "    acc1 = score1 / N\n",
    "    acc_comp = scorecomp / N\n",
    "    \n",
    "    if verbose:\n",
    "        print(\"Accuracy 1st Network: {:^10.2f}\".format(acc0) )\n",
    "        print(\"Accuracy 2nd Network: {:^10.2f}\".format(acc1))\n",
    "        print(\"Accuracy comparison: {:^12.2f}\".format(acc_comp))\n",
    "\n",
    "    return acc0,acc1,acc_comp"
   ]
  },
  {
   "cell_type": "code",
   "execution_count": 414,
   "metadata": {},
   "outputs": [],
   "source": [
    "class LeNet2imgs(nn.Module):\n",
    "    def __init__(self,chan = 1):\n",
    "        super(LeNet2imgs,self).__init__()\n",
    "        self.net0 = Net2()\n",
    "        self.net1 = Net2()\n",
    "        self.linblock = nn.Sequential(nn.Linear(20,40),\n",
    "                                     nn.LeakyReLU(),\n",
    "                                     nn.Linear(40,80),\n",
    "                                     nn.LeakyReLU(),\n",
    "                                     nn.Linear(80,2))\n",
    "\n",
    "        \n",
    "    def forward(self,x):\n",
    "        x0 = self.net0(x[:,0].unsqueeze(1))\n",
    "        x1 = self.net0(x[:,1].unsqueeze(1))\n",
    "        comp = torch.cat((x0,x1),dim=1)\n",
    "        comp = self.linblock(comp)\n",
    "        return x0,x1,comp"
   ]
  },
  {
   "cell_type": "code",
   "execution_count": 418,
   "metadata": {},
   "outputs": [
    {
     "name": "stdout",
     "output_type": "stream",
     "text": [
      "* Using MNIST\n",
      "** Reduce the data-set (use --full for the full thing)\n",
      "** Use 1000 train and 1000 test samples\n"
     ]
    }
   ],
   "source": [
    "N_SAMPLES = 500\n",
    "a, b, c, d = dl.load_data(flatten=False)\n",
    "train2_input, train2_target, train2_classes = dl.mnist_to_pairs(N_SAMPLES,a,b)\n",
    "test2_input, test2_target, test2_classes = dl.mnist_to_pairs(N_SAMPLES,a,b)"
   ]
  },
  {
   "cell_type": "code",
   "execution_count": 421,
   "metadata": {},
   "outputs": [],
   "source": [
    "def train_double_model(model,train_input,train_target,train_classes,nb_epochs=5):\n",
    "    optimizer = optim.Adam(model.parameters(), lr = 1e-2)\n",
    "    batch_size = 100\n",
    "    criterion = nn.CrossEntropyLoss()\n",
    "    for e in range(nb_epochs):\n",
    "        clear_output(wait=True)\n",
    "        print(\"Progression:{:.2f}\".format(e/nb_epochs*100))\n",
    "        for inputs,comp_targs,classes in zip(train_input.split(batch_size),\n",
    "                                           train_target.split(batch_size),\n",
    "                                           train_classes.split(batch_size)):\n",
    "            targ0 = classes[:,0]\n",
    "            targ1 = classes[:,1]\n",
    "            x0,x1,comp = model(inputs)\n",
    "            loss0 = criterion(x0,targ0)\n",
    "            loss1 = criterion(x1,targ1)\n",
    "            loss_class = criterion(comp,comp_targs)\n",
    "            totloss = loss0 + loss1 + loss_class\n",
    "            model.zero_grad()\n",
    "            totloss.backward()\n",
    "            optimizer.step()"
   ]
  },
  {
   "cell_type": "code",
   "execution_count": 422,
   "metadata": {},
   "outputs": [
    {
     "name": "stdout",
     "output_type": "stream",
     "text": [
      "Progression:80.00\n",
      "####################Accuracies for 5-fold:####################\n",
      "1st group acc:     0.93     \n",
      "2nd group acc:     0.93     \n",
      "Comparison acc:    0.86    \n"
     ]
    }
   ],
   "source": [
    "Kfold_CVdouble(LeNet2imgs,train2_input,train2_target,train2_classes,K=5)"
   ]
  },
  {
   "cell_type": "code",
   "execution_count": 408,
   "metadata": {},
   "outputs": [],
   "source": [
    "def Kfold_CVdouble(classtype,inputs,targets,classes,K=4):\n",
    "    assert(K>=2)\n",
    "    N = inputs.size(0)\n",
    "    indxes = torch.randperm(N)\\\n",
    "                  .split(int(N/K))\n",
    "    accs = torch.empty(K,3)\n",
    "    for k in range(K):\n",
    "        model = classtype()\n",
    "        \n",
    "        test_indx = indxes[k]\n",
    "        train_indx = torch.cat((indxes[:k]+indxes[k+1:]),0)\n",
    "        \n",
    "        train_inp = inputs[train_indx]\n",
    "        train_targ = targets[train_indx]\n",
    "        train_classes = classes[train_indx]\n",
    "        \n",
    "        test_inp  = inputs[test_indx]\n",
    "        test_targ = targets[test_indx]\n",
    "        test_classes = classes[test_indx]\n",
    "        \n",
    "        train_double_model(model,train_inp,train_targ,train_classes)\n",
    "        res = accuracy_double_model(model,test_inp,test_targ,test_classes)\n",
    "        #0th column: 1st group acc 1th column 2nd group acc 3rd column comp accuracy\n",
    "        accs[k] = torch.Tensor(res)\n",
    "    print(sep + \"Accuracies for {}-fold:\".format(K) + sep)\n",
    "    print(\"1st group acc:{:^14.2f}\".format(accs[:,0].mean().item()))\n",
    "    print(\"2nd group acc:{:^14.2f}\".format(accs[:,1].mean().item()))\n",
    "    print(\"Comparison acc:{:^12.2f}\".format(accs[:,2].mean().item()))"
   ]
  },
  {
   "cell_type": "code",
   "execution_count": 409,
   "metadata": {},
   "outputs": [
    {
     "name": "stdout",
     "output_type": "stream",
     "text": [
      "Progression:96.00\n",
      "####################Train accuracy:####################\n",
      "Accuracy 1st Network:    1.00   \n",
      "Accuracy 2nd Network:    1.00   \n",
      "Accuracy comparison:     1.00    \n",
      "####################Test accuracy:####################\n",
      "Accuracy 1st Network:    1.00   \n",
      "Accuracy 2nd Network:    1.00   \n",
      "Accuracy comparison:     0.91    \n"
     ]
    }
   ],
   "source": [
    "net2 = LeNet2imgs()\n",
    "train_double_model(net2,train2_input,train2_target,train2_classes,nb_epochs=25)\n",
    "print(sep + \"Train accuracy:\" + sep)\n",
    "accuracy_double_model(net2,train2_input,train2_target,train2_classes,verbose=True)\n",
    "print(sep+ \"Test accuracy:\" + sep)\n",
    "_ = accuracy_double_model(net2,test2_input,test2_target,test2_classes,verbose=True)"
   ]
  },
  {
   "cell_type": "code",
   "execution_count": null,
   "metadata": {},
   "outputs": [],
   "source": []
  }
 ],
 "metadata": {
  "kernelspec": {
   "display_name": "Python [conda env:ML] *",
   "language": "python",
   "name": "conda-env-ML-py"
  },
  "language_info": {
   "codemirror_mode": {
    "name": "ipython",
    "version": 3
   },
   "file_extension": ".py",
   "mimetype": "text/x-python",
   "name": "python",
   "nbconvert_exporter": "python",
   "pygments_lexer": "ipython3",
   "version": "3.7.4"
  }
 },
 "nbformat": 4,
 "nbformat_minor": 4
}
