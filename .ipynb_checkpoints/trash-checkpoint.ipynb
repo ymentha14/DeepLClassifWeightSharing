{
 "cells": [
  {
   "cell_type": "code",
   "execution_count": 2,
   "metadata": {},
   "outputs": [],
   "source": [
    "%load_ext lab_black"
   ]
  },
  {
   "cell_type": "code",
   "execution_count": 37,
   "metadata": {},
   "outputs": [],
   "source": [
    "%load_ext autoreload\n",
    "%autoreload 2"
   ]
  },
  {
   "cell_type": "code",
   "execution_count": 1,
   "metadata": {},
   "outputs": [],
   "source": [
    "import torch\n",
    "from torch import optim\n",
    "import torch.nn as nn\n",
    "from torch.nn import functional as F\n",
    "\n",
    "import sys\n",
    "sys.path.insert(1,\"src\")\n",
    "\n",
    "from IPython.display import clear_output\n",
    "from IPython.core.debugger import set_trace\n",
    "\n",
    "import matplotlib.pyplot as plt\n",
    "import pickle\n",
    "import copy\n",
    "import math\n",
    "\n",
    "import dlc_practical_prologue as dl\n",
    "\n",
    "from misc_funcs import RANDOM_SEED, EXPLORE_K, BIG_K, NB_EPOCHS, sep\n",
    "N_SAMPLES = 500\n"
   ]
  },
  {
   "cell_type": "markdown",
   "metadata": {},
   "source": [
    "# WeightAux"
   ]
  },
  {
   "cell_type": "markdown",
   "metadata": {},
   "source": [
    "The project respects the following structure:\n",
    "Simple Network:\n",
    "```\n",
    "    .\n",
    "    ├── Simple Network               \n",
    "    │   ├── Net2    \n",
    "    │   ├── get_accuracy()         \n",
    "    │   ├── train_model()  \n",
    "    │   ├── Kfold_CV()\n",
    "    ├── Double Network\n",
    "    │   ├── Naive\n",
    "    │   ├── WeightAux\n",
    "    │   ├── accuracy_double_model()   \n",
    "    │   ├── train_double_model()   \n",
    "    │   ├── Kfold_CVdouble()\n",
    "\n",
    "```"
   ]
  },
  {
   "cell_type": "code",
   "execution_count": 2,
   "metadata": {},
   "outputs": [],
   "source": [
    "train_input, train_target, test_input, test_target = dl.load_data(flatten=False)\n",
    "train_input = torch.functional.F.avg_pool2d(train_input, kernel_size=2)\n",
    "test_input = torch.functional.F.avg_pool2d(test_input, kernel_size=2)"
   ]
  },
  {
   "cell_type": "markdown",
   "metadata": {},
   "source": [
    "## Simple Network Implementation"
   ]
  },
  {
   "cell_type": "markdown",
   "metadata": {},
   "source": [
    "<div class=\"alert alert-block alert-info\">\n",
    "We start by implementing a simple handmade-optimized CNN that performs decently on the MNIST dataset (nets.Net2): we will use it as the reference throuhghout the project for comparison purposes.\n",
    "</div>"
   ]
  },
  {
   "cell_type": "code",
   "execution_count": 3,
   "metadata": {},
   "outputs": [],
   "source": [
    "from opt import (\n",
    "    Net2,\n",
    "    train_model,\n",
    "    get_accuracy,\n",
    "    Kfold_CV,\n",
    "    Naive,\n",
    "    WeightAux,\n",
    "    get_double_accuracy,\n",
    "    train_double_model,\n",
    "    Kfold_CVdouble,\n",
    ")"
   ]
  },
  {
   "cell_type": "code",
   "execution_count": 4,
   "metadata": {},
   "outputs": [
    {
     "name": "stdout",
     "output_type": "stream",
     "text": [
      "Progression:96.00 %\n",
      "--------------------\n",
      "Train accuracy: 1.00\n",
      "Test accuracy: 0.95\n",
      "--------------------\n"
     ]
    }
   ],
   "source": [
    "model = Net2()\n",
    "architecture = Net2\n",
    "criterion = nn.CrossEntropyLoss()\n",
    "optimizer = optim.Adam\n",
    "lr = 1e-3\n",
    "train_model(train_input,train_target,model,criterion=criterion,optimizer=optimizer,lr=lr,verbose=True)\n",
    "print(sep)\n",
    "_ = get_accuracy(model, train_input, train_target, \"Train\")\n",
    "_ = get_accuracy(model, test_input, test_target, \"Test\")\n",
    "print(sep)"
   ]
  },
  {
   "cell_type": "markdown",
   "metadata": {},
   "source": [
    "<div class=\"alert alert-block alert-info\">\n",
    "As we can see, the model overfits on the train set and performs well enough for the comparison purpose, although some parameter tuning could probably get this accuracy higher.\n",
    "</div>"
   ]
  },
  {
   "cell_type": "markdown",
   "metadata": {},
   "source": [
    "<div class=\"alert alert-block alert-info\">\n",
    "In order to get more robust estimates, a KFold Cross validation method was implemented as well\n",
    "</div>"
   ]
  },
  {
   "cell_type": "code",
   "execution_count": 6,
   "metadata": {},
   "outputs": [
    {
     "name": "stdout",
     "output_type": "stream",
     "text": [
      "--------------------\n",
      "Accuracies for 10-fold:[0.9399999976158142, 0.949999988079071, 0.949999988079071, 0.9399999976158142, 0.9200000166893005, 0.949999988079071, 0.9599999785423279, 0.9599999785423279, 0.9399999976158142, 0.9800000190734863]\n",
      "Accuracy:0.95 +- 0.02\n",
      "--------------------\n"
     ]
    }
   ],
   "source": [
    "accuracies = Kfold_CV(train_input, train_target, architecture, criterion, optimizer, lr, K=BIG_K, verbose=True)"
   ]
  },
  {
   "cell_type": "markdown",
   "metadata": {},
   "source": [
    "## Dealing with double Images"
   ]
  },
  {
   "cell_type": "markdown",
   "metadata": {},
   "source": [
    "<div class=\"alert alert-block alert-info\">\n",
    "We now implement 4 different model architectures in order to assess the performance improvement that can be achieved through weight sharing or auxiliary loss. \n",
    "    \n",
    "* Naive model, where we just train 2 networks in parallel and trivially compare the output\n",
    "* Weight Sharing\n",
    "* Auxiliary loss\n",
    "* Auxiliary loss + Weight sharing\n",
    "</div>"
   ]
  },
  {
   "cell_type": "code",
   "execution_count": 7,
   "metadata": {},
   "outputs": [],
   "source": [
    "a, b, c, d = dl.load_data(flatten=False)\n",
    "train2_input, train2_target, train2_classes = dl.mnist_to_pairs(N_SAMPLES, a, b)\n",
    "test2_input, test2_target, test2_classes = dl.mnist_to_pairs(N_SAMPLES, c, d)"
   ]
  },
  {
   "cell_type": "markdown",
   "metadata": {},
   "source": [
    "### Models"
   ]
  },
  {
   "cell_type": "markdown",
   "metadata": {},
   "source": [
    "### Implementations"
   ]
  },
  {
   "cell_type": "markdown",
   "metadata": {},
   "source": [
    "<div class=\"alert alert-block alert-info\">\n",
    "First a by-hand optimized version of the naive baseline\n",
    "</div>"
   ]
  },
  {
   "cell_type": "code",
   "execution_count": 8,
   "metadata": {},
   "outputs": [],
   "source": [
    "# Parameters definition\n",
    "criterion = nn.CrossEntropyLoss\n",
    "optimizer = optim.Adam\n",
    "lr = 1e-3\n",
    "naive_baseline = Naive()\n",
    "############################"
   ]
  },
  {
   "cell_type": "code",
   "execution_count": 9,
   "metadata": {},
   "outputs": [
    {
     "name": "stdout",
     "output_type": "stream",
     "text": [
      "--------------------Train--------------------\n",
      "Accuracy 1st Network:    1.00   \n",
      "Accuracy 2nd Network:    1.00   \n",
      "Accuracy comparison:     1.00    \n",
      "--------------------Test--------------------\n",
      "Accuracy 1st Network:    0.92   \n",
      "Accuracy 2nd Network:    0.91   \n",
      "Accuracy comparison:     0.94    \n"
     ]
    }
   ],
   "source": [
    "train_double_model(train2_input,train2_target,train2_classes,naive_baseline,\n",
    "                   criterion,optimizer,lr,nb_epochs=NB_EPOCHS,verbose=True,)\n",
    "print(sep + \"Train\" + sep)\n",
    "_ = get_double_accuracy(naive_baseline, train2_input, train2_target, train2_classes, verbose=True)\n",
    "print(sep + \"Test\" + sep)\n",
    "_ = get_double_accuracy(naive_baseline, test2_input, test2_target, test2_classes, verbose=True)"
   ]
  },
  {
   "cell_type": "markdown",
   "metadata": {},
   "source": [
    "<div class=\"alert alert-block alert-info\">\n",
    "More robust metric thanks to KFold cross validation\n",
    "</div>"
   ]
  },
  {
   "cell_type": "code",
   "execution_count": 10,
   "metadata": {},
   "outputs": [
    {
     "name": "stdout",
     "output_type": "stream",
     "text": [
      "--------------------Validation Accuracies for 10-fold:--------------------\n",
      "Accuracy 1st network: 0.92 +- 0.04\n",
      "Accuracy 2nd network: 0.95 +- 0.03\n",
      "Accuracy comparison:  0.96 +- 0.03\n"
     ]
    }
   ],
   "source": [
    "_ = Kfold_CVdouble(train2_input,train2_target,train2_classes,\n",
    "                   Naive(),criterion,optimizer,lr,K=BIG_K,verbose=True)"
   ]
  },
  {
   "cell_type": "markdown",
   "metadata": {},
   "source": [
    "<div class=\"alert alert-block alert-info\">\n",
    "And an equivalent with both the weight sharing and the auxiliary losses activated\n",
    "</div>"
   ]
  },
  {
   "cell_type": "code",
   "execution_count": 11,
   "metadata": {},
   "outputs": [],
   "source": [
    "# Parameters definition\n",
    "criterion = nn.CrossEntropyLoss\n",
    "optimizer = optim.Adam\n",
    "lr = 1e-3\n",
    "lambda_ = 0.75\n",
    "net2 = WeightAux(True, True)\n",
    "############################"
   ]
  },
  {
   "cell_type": "code",
   "execution_count": 12,
   "metadata": {},
   "outputs": [
    {
     "name": "stdout",
     "output_type": "stream",
     "text": [
      "--------------------Train accuracy:--------------------\n",
      "Accuracy 1st Network:    1.00   \n",
      "Accuracy 2nd Network:    1.00   \n",
      "Accuracy comparison:     1.00    \n",
      "--------------------Test accuracy:--------------------\n",
      "Accuracy 1st Network:    0.95   \n",
      "Accuracy 2nd Network:    0.93   \n",
      "Accuracy comparison:     0.86    \n"
     ]
    }
   ],
   "source": [
    "train_double_model(train2_input,train2_target,train2_classes,\n",
    "                   net2,criterion,optimizer,lr,lambda_,nb_epochs=NB_EPOCHS,verbose=True,)\n",
    "print(sep + \"Train accuracy:\" + sep)\n",
    "_ = get_double_accuracy(\n",
    "    net2, train2_input, train2_target, train2_classes, verbose=True\n",
    ")\n",
    "print(sep + \"Test accuracy:\" + sep)\n",
    "_ = get_double_accuracy(net2, test2_input, test2_target, test2_classes, verbose=True)"
   ]
  },
  {
   "cell_type": "markdown",
   "metadata": {},
   "source": [
    "<div class=\"alert alert-block alert-info\">\n",
    "And for the WeightSharing\n",
    "</div>"
   ]
  },
  {
   "cell_type": "code",
   "execution_count": 14,
   "metadata": {},
   "outputs": [
    {
     "name": "stdout",
     "output_type": "stream",
     "text": [
      "--------------------Validation Accuracies for 10-fold:--------------------\n",
      "Accuracy 1st network: 0.94 +- 0.04\n",
      "Accuracy 2nd network: 0.95 +- 0.04\n",
      "Accuracy comparison:  0.82 +- 0.04\n"
     ]
    }
   ],
   "source": [
    "acc_list = Kfold_CVdouble(train2_input,train2_target,train2_classes,WeightAux(True, True),criterion,\n",
    "                          optimizer,lr,lambda_,K=BIG_K,verbose=True)"
   ]
  },
  {
   "cell_type": "markdown",
   "metadata": {},
   "source": [
    "# Hyperparameter Optimization"
   ]
  },
  {
   "cell_type": "markdown",
   "metadata": {},
   "source": [
    "<div class=\"alert alert-block alert-info\">\n",
    "In order to improve the models mentionned above 2 types of hyperparameters optimization method were implemented:\n",
    "    \n",
    "* Grid Search\n",
    "* Genetic Algorithm\n",
    "    \n",
    "Both of these methods rely on the following param class which allow intuitive subsequent optimization.\n",
    "</div>"
   ]
  },
  {
   "cell_type": "code",
   "execution_count": 38,
   "metadata": {},
   "outputs": [],
   "source": [
    "# local\n",
    "from hyperopt import Param, HyperGrid, GetNTop, GetMax\n",
    "from gridsearch import GridSearch"
   ]
  },
  {
   "cell_type": "code",
   "execution_count": 39,
   "metadata": {},
   "outputs": [],
   "source": [
    "# 1 Architecture\n",
    "Archis = [\n",
    "    WeightAux(True, True),\n",
    "    WeightAux(True, False),\n",
    "    WeightAux(False, True),\n",
    "    WeightAux(False, False),\n",
    "]\n",
    "# 2 Comparison Loss Function\n",
    "CompLoss = [nn.CrossEntropyLoss, nn.NLLLoss, nn.MSELoss]\n",
    "# 3 Optimizers\n",
    "Optimizers = [optim.SGD, optim.Adam, optim.Adagrad, optim.AdamW]\n",
    "# 4 Learning Rates\n",
    "LRs = [1e-4, 1e-3, 1e-2, 1e-1, 1]\n",
    "# 5 Ratios\n",
    "Lambdas = [0.2, 0.4, 0.7, 0.9]\n",
    "HYPER_PARAMS = [Archis, CompLoss, Optimizers, LRs, Lambdas]"
   ]
  },
  {
   "cell_type": "markdown",
   "metadata": {},
   "source": [
    "## Grid Search Model"
   ]
  },
  {
   "cell_type": "code",
   "execution_count": 40,
   "metadata": {},
   "outputs": [
    {
     "name": "stdout",
     "output_type": "stream",
     "text": [
      "26.0 minutes, 37.0 seconds\n"
     ]
    }
   ],
   "source": [
    "HG = HyperGrid(*HYPER_PARAMS, \"./results/HYPERPARAM.pkl\")\n",
    "\n",
    "HG.estimate_time(train2_input, train2_target, train2_classes, K=3)"
   ]
  },
  {
   "cell_type": "code",
   "execution_count": 41,
   "metadata": {},
   "outputs": [
    {
     "name": "stdout",
     "output_type": "stream",
     "text": [
      "Grid Search progression: 99.89583333333333 %\n",
      "Grid Search done! Hyperparam saved.\n"
     ]
    }
   ],
   "source": [
    "GridSearch(HG,train2_input,train2_target,train2_classes)"
   ]
  },
  {
   "cell_type": "code",
   "execution_count": 42,
   "metadata": {},
   "outputs": [
    {
     "data": {
      "text/plain": [
       "[Arch_Weightshare_Aux_loss_MSELoss_Adam_0.01_0.4_#ind#_-1.00_#score#_0.91,\n",
       " Arch_Weightshare_Aux_loss_MSELoss_Adam_0.01_0.2_#ind#_-1.00_#score#_0.90]"
      ]
     },
     "execution_count": 42,
     "metadata": {},
     "output_type": "execute_result"
    }
   ],
   "source": [
    "GetNTop(HG.lin_view(), 2)"
   ]
  },
  {
   "cell_type": "code",
   "execution_count": 43,
   "metadata": {},
   "outputs": [],
   "source": [
    "bestparam = GetMax(HG.lin_view())"
   ]
  },
  {
   "cell_type": "markdown",
   "metadata": {},
   "source": [
    "<div class=\"alert alert-block alert-info\">\n",
    "We re-evaluate the best model on a bigger K-Fold to obtain more robust metric.\n",
    "</div>"
   ]
  },
  {
   "cell_type": "code",
   "execution_count": 44,
   "metadata": {},
   "outputs": [
    {
     "name": "stdout",
     "output_type": "stream",
     "text": [
      "--------------------Validation Accuracies for 10-fold:--------------------\n",
      "Accuracy 1st network: 0.94 +- 0.04\n",
      "Accuracy 2nd network: 0.95 +- 0.03\n",
      "Accuracy comparison:  0.91 +- 0.05\n"
     ]
    },
    {
     "data": {
      "text/plain": [
       "tensor([0.8800, 0.9400, 0.8800, 0.9600, 0.9600, 0.9400, 0.8800, 0.9400, 0.8400,\n",
       "        0.8400])"
      ]
     },
     "execution_count": 44,
     "metadata": {},
     "output_type": "execute_result"
    }
   ],
   "source": [
    "bestparam.KFold(train2_input, train2_target, train2_classes, K=BIG_K, verbose=True)"
   ]
  },
  {
   "cell_type": "markdown",
   "metadata": {},
   "source": [
    "## Grid Search Model Naive"
   ]
  },
  {
   "cell_type": "code",
   "execution_count": 45,
   "metadata": {},
   "outputs": [],
   "source": [
    "HYPER_PARAMS_NAIVE = [[Naive()], CompLoss, Optimizers, LRs, [0]]\n",
    "HG_naive = HyperGrid(*HYPER_PARAMS_NAIVE, \"./results/HYPERPARAM_naive.pkl\")"
   ]
  },
  {
   "cell_type": "code",
   "execution_count": 46,
   "metadata": {},
   "outputs": [
    {
     "name": "stdout",
     "output_type": "stream",
     "text": [
      "Grid Search progression: 98.33333333333333 %\n",
      "Grid Search done! Hyperparam saved.\n"
     ]
    }
   ],
   "source": [
    "GridSearch(HG_naive,train2_input,train2_target,train2_classes)"
   ]
  },
  {
   "cell_type": "code",
   "execution_count": 54,
   "metadata": {},
   "outputs": [
    {
     "data": {
      "text/plain": [
       "[NaiveArch_MSELoss_AdamW_0.01_0_#ind#_-1.00_#score#_0.96,\n",
       " NaiveArch_MSELoss_Adam_0.01_0_#ind#_-1.00_#score#_0.96,\n",
       " NaiveArch_NLLLoss_AdamW_0.01_0_#ind#_-1.00_#score#_0.96,\n",
       " NaiveArch_NLLLoss_Adam_0.01_0_#ind#_-1.00_#score#_0.96,\n",
       " NaiveArch_CrossEntropyLoss_AdamW_0.01_0_#ind#_-1.00_#score#_0.96]"
      ]
     },
     "execution_count": 54,
     "metadata": {},
     "output_type": "execute_result"
    }
   ],
   "source": [
    "GetNTop(HG_naive.lin_view(),5)"
   ]
  },
  {
   "cell_type": "code",
   "execution_count": 48,
   "metadata": {},
   "outputs": [],
   "source": [
    "bestparam_naive = GetMax(HG_naive.lin_view())"
   ]
  },
  {
   "cell_type": "markdown",
   "metadata": {},
   "source": [
    "<div class=\"alert alert-block alert-info\">\n",
    "We re-evaluate the best model on a bigger K-Fold to obtain more robust metric.\n",
    "</div>"
   ]
  },
  {
   "cell_type": "code",
   "execution_count": 55,
   "metadata": {},
   "outputs": [
    {
     "name": "stdout",
     "output_type": "stream",
     "text": [
      "--------------------Validation Accuracies for 10-fold:--------------------\n",
      "Accuracy 1st network: 0.92 +- 0.03\n",
      "Accuracy 2nd network: 0.94 +- 0.02\n",
      "Accuracy comparison:  0.95 +- 0.03\n"
     ]
    },
    {
     "data": {
      "text/plain": [
       "tensor([0.9800, 0.9200, 0.9400, 0.9800, 0.9600, 0.9400, 0.9400, 0.9600, 0.9000,\n",
       "        1.0000])"
      ]
     },
     "execution_count": 55,
     "metadata": {},
     "output_type": "execute_result"
    }
   ],
   "source": [
    "bestparam_naive.KFold(train2_input,train2_target,train2_classes,K=BIG_K,verbose=True)"
   ]
  },
  {
   "cell_type": "markdown",
   "metadata": {},
   "source": [
    "## Genetic Algorithm"
   ]
  },
  {
   "cell_type": "code",
   "execution_count": 50,
   "metadata": {},
   "outputs": [],
   "source": [
    "from genetic import (\n",
    "    generate_population,\n",
    "    compute_individuality,\n",
    "    compute_fitness,\n",
    "    selection,\n",
    "    breed,\n",
    "    plot_population,\n",
    ")"
   ]
  },
  {
   "cell_type": "code",
   "execution_count": 51,
   "metadata": {},
   "outputs": [],
   "source": [
    "Param.set_hyper_params(HYPER_PARAMS)"
   ]
  },
  {
   "cell_type": "markdown",
   "metadata": {},
   "source": [
    "* START<br>\n",
    "    - Generate the initial population<br>\n",
    "    - Compute fitness<br>\n",
    "* REPEAT<br>\n",
    "    - Selection<br>\n",
    "    - Crossover<br>\n",
    "    - Mutation<br>\n",
    "    - Compute fitness<br>\n",
    "* UNTIL population has converged<br>\n",
    "* STOP<br>"
   ]
  },
  {
   "cell_type": "markdown",
   "metadata": {},
   "source": [
    "Assumption: complex : hill climbing algorithm might get stuck in."
   ]
  },
  {
   "cell_type": "code",
   "execution_count": 52,
   "metadata": {},
   "outputs": [
    {
     "name": "stdout",
     "output_type": "stream",
     "text": [
      "Population Progression: 96.66666666666667 %\n"
     ]
    },
    {
     "data": {
      "image/png": "[encoded data removed]",
      "text/plain": [
       "<Figure size 432x288 with 1 Axes>"
      ]
     },
     "metadata": {
      "needs_background": "light"
     },
     "output_type": "display_data"
    }
   ],
   "source": [
    "####################################\n",
    "# size of the population\n",
    "N_POP = 10\n",
    "# number of iteration of selection\n",
    "N_ITER = 30\n",
    "# selection ratio\n",
    "SELEC_RATIO = 0.6\n",
    "# chance of mutation\n",
    "CHANCE = 0.1\n",
    "# number of fold for evaluation\n",
    "K = 3\n",
    "####################################\n",
    "\n",
    "# we keep a param to receive\n",
    "best_indiv = Param()\n",
    "# initial population\n",
    "population = generate_population(N_POP)\n",
    "compute_fitness(\n",
    "    train2_input, train2_target, train2_classes, population, K=K, verbose=True\n",
    ")\n",
    "compute_individuality(population)\n",
    "for i in range(N_ITER):\n",
    "    clear_output(wait=False)\n",
    "    print(\"Population Progression: {} %\".format(i / N_ITER * 100))\n",
    "    plot_population(population)\n",
    "    plt.pause(0.05)\n",
    "    population = selection(population, selec_ratio=SELEC_RATIO)\n",
    "    if population[0].score_mean > best_indiv.score_mean:\n",
    "        best_indiv = population[0]\n",
    "    population = breed(population, n_pop=N_POP, chance=CHANCE)\n",
    "    compute_fitness(train2_input, train2_target, train2_classes, population, K=K)\n",
    "    compute_individuality(population)\n",
    "    torch.save(population,\"./results/GEN_ALG.pickle\", pickle_module=pickle)"
   ]
  },
  {
   "cell_type": "markdown",
   "metadata": {},
   "source": [
    "<div class=\"alert alert-block alert-info\">\n",
    "Once again, we compute the score on a bigger K-fold for consistent results\n",
    "</div>"
   ]
  },
  {
   "cell_type": "code",
   "execution_count": 53,
   "metadata": {},
   "outputs": [
    {
     "name": "stdout",
     "output_type": "stream",
     "text": [
      "--------------------Validation Accuracies for 10-fold:--------------------\n",
      "Accuracy 1st network: 0.95 +- 0.03\n",
      "Accuracy 2nd network: 0.95 +- 0.03\n",
      "Accuracy comparison:  0.86 +- 0.07\n"
     ]
    },
    {
     "data": {
      "text/plain": [
       "tensor([0.8600, 0.8200, 0.9200, 0.9200, 0.9200, 0.8800, 0.9000, 0.8800, 0.7800,\n",
       "        0.7200])"
      ]
     },
     "execution_count": 53,
     "metadata": {},
     "output_type": "execute_result"
    }
   ],
   "source": [
    "best_indiv.KFold(train2_input, train2_target, train2_classes, K=BIG_K, verbose=True)"
   ]
  },
  {
   "cell_type": "code",
   "execution_count": null,
   "metadata": {},
   "outputs": [],
   "source": []
  }
 ],
 "metadata": {
  "kernelspec": {
   "display_name": "Python [conda env:ML] *",
   "language": "python",
   "name": "conda-env-ML-py"
  },
  "language_info": {
   "codemirror_mode": {
    "name": "ipython",
    "version": 3
   },
   "file_extension": ".py",
   "mimetype": "text/x-python",
   "name": "python",
   "nbconvert_exporter": "python",
   "pygments_lexer": "ipython3",
   "version": "3.7.4"
  }
 },
 "nbformat": 4,
 "nbformat_minor": 4
}
