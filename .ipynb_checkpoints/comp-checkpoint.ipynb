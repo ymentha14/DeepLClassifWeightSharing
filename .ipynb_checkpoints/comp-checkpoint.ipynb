{
 "cells": [
  {
   "cell_type": "code",
   "execution_count": 2,
   "metadata": {},
   "outputs": [],
   "source": [
    "%load_ext lab_black"
   ]
  },
  {
   "cell_type": "code",
   "execution_count": 1,
   "metadata": {},
   "outputs": [],
   "source": [
    "%load_ext autoreload\n",
    "%autoreload 2"
   ]
  },
  {
   "cell_type": "code",
   "execution_count": 2,
   "metadata": {},
   "outputs": [],
   "source": [
    "import torch\n",
    "from torch import optim\n",
    "import torch.nn as nn\n",
    "from torch.nn import functional as F\n",
    "\n",
    "import sys\n",
    "sys.path.insert(1,\"src\")\n",
    "\n",
    "from IPython.display import clear_output\n",
    "from IPython.core.debugger import set_trace\n",
    "\n",
    "import matplotlib.pyplot as plt\n",
    "import pickle\n",
    "import copy\n",
    "import math\n",
    "\n",
    "import dlc_practical_prologue as dl\n",
    "from opt import (\n",
    "    Net2,\n",
    "    train_model,\n",
    "    get_accuracy,\n",
    "    Kfold_CV,\n",
    "    Naive,\n",
    "    WeightAux,\n",
    "    get_double_accuracy,\n",
    "    train_double_model,\n",
    "    Kfold_CVdouble,\n",
    ")\n",
    "from misc_funcs import RANDOM_SEED, EXPLORE_K, BIG_K, NB_EPOCHS, sep\n",
    "N_SAMPLES = 500\n"
   ]
  },
  {
   "cell_type": "markdown",
   "metadata": {},
   "source": [
    "# WeightAux"
   ]
  },
  {
   "cell_type": "markdown",
   "metadata": {},
   "source": [
    "The project respects the following structure:\n",
    "Simple Network:\n",
    "```\n",
    "    .\n",
    "    ├── Simple Network               \n",
    "    │   ├── Net2    \n",
    "    │   ├── get_accuracy()         \n",
    "    │   ├── train_model()  \n",
    "    │   ├── Kfold_CV()\n",
    "    ├── Double Network\n",
    "    │   ├── Naive\n",
    "    │   ├── WeightAux\n",
    "    │   ├── accuracy_double_model()   \n",
    "    │   ├── train_double_model()   \n",
    "    │   ├── Kfold_CVdouble()\n",
    "\n",
    "```"
   ]
  },
  {
   "cell_type": "code",
   "execution_count": 3,
   "metadata": {},
   "outputs": [],
   "source": [
    "train_input, train_target, test_input, test_target = dl.load_data(flatten=False)\n",
    "train_input = torch.functional.F.avg_pool2d(train_input, kernel_size=2)\n",
    "test_input = torch.functional.F.avg_pool2d(test_input, kernel_size=2)"
   ]
  },
  {
   "cell_type": "markdown",
   "metadata": {},
   "source": [
    "## Simple Network Implementation"
   ]
  },
  {
   "cell_type": "markdown",
   "metadata": {},
   "source": [
    "<div class=\"alert alert-block alert-info\">\n",
    "We start by implementing a simple handmade-optimized CNN that performs decently on the MNIST dataset (nets.Net2): we will use it as the reference throuhghout the project for comparison purposes.\n",
    "</div>"
   ]
  },
  {
   "cell_type": "code",
   "execution_count": 4,
   "metadata": {},
   "outputs": [
    {
     "name": "stdout",
     "output_type": "stream",
     "text": [
      "Progression:96.00 %\n",
      "--------------------\n",
      "Train accuracy: 1.00\n",
      "Test accuracy: 0.95\n",
      "--------------------\n"
     ]
    }
   ],
   "source": [
    "model = Net2()\n",
    "architecture = Net2\n",
    "criterion = nn.CrossEntropyLoss()\n",
    "optimizer = optim.Adam\n",
    "lr = 1e-3\n",
    "train_model(train_input,train_target,model,criterion=criterion,optimizer=optimizer,lr=lr,verbose=True)\n",
    "print(sep)\n",
    "_ = get_accuracy(model, train_input, train_target, \"Train\")\n",
    "_ = get_accuracy(model, test_input, test_target, \"Test\")\n",
    "print(sep)"
   ]
  },
  {
   "cell_type": "markdown",
   "metadata": {},
   "source": [
    "<div class=\"alert alert-block alert-info\">\n",
    "As we can see, the model overfits on the train set and performs well enough for the comparison purpose, although some parameter tuning could probably get this accuracy higher.\n",
    "</div>"
   ]
  },
  {
   "cell_type": "markdown",
   "metadata": {},
   "source": [
    "<div class=\"alert alert-block alert-info\">\n",
    "In order to get more robust estimates, a KFold Cross validation method was implemented as well\n",
    "</div>"
   ]
  },
  {
   "cell_type": "code",
   "execution_count": 5,
   "metadata": {},
   "outputs": [
    {
     "name": "stdout",
     "output_type": "stream",
     "text": [
      "--------------------\n",
      "Accuracies for 2-fold:[0.9399999976158142, 0.9419999718666077]\n",
      "Accuracy:0.94 +- 0.00\n",
      "--------------------\n"
     ]
    }
   ],
   "source": [
    "accuracies = Kfold_CV(train_input, train_target, architecture, criterion, optimizer, lr, K=BIG_K, verbose=True)"
   ]
  },
  {
   "cell_type": "markdown",
   "metadata": {},
   "source": [
    "## Dealing with double Images"
   ]
  },
  {
   "cell_type": "markdown",
   "metadata": {},
   "source": [
    "<div class=\"alert alert-block alert-info\">\n",
    "We now implement 4 different model architectures in order to assess the performance improvement that can be achieved through weight sharing or auxiliary loss. \n",
    "    \n",
    "* Naive model, where we just train 2 networks in parallel and trivially compare the output\n",
    "* Weight Sharing\n",
    "* Auxiliary loss\n",
    "* Auxiliary loss + Weight sharing\n",
    "</div>"
   ]
  },
  {
   "cell_type": "code",
   "execution_count": 3,
   "metadata": {},
   "outputs": [],
   "source": [
    "a, b, c, d = dl.load_data(flatten=False)\n",
    "train2_input, train2_target, train2_classes = dl.mnist_to_pairs(N_SAMPLES, a, b)\n",
    "test2_input, test2_target, test2_classes = dl.mnist_to_pairs(N_SAMPLES, c, d)"
   ]
  },
  {
   "cell_type": "markdown",
   "metadata": {},
   "source": [
    "### Models"
   ]
  },
  {
   "cell_type": "markdown",
   "metadata": {},
   "source": [
    "### Implementations"
   ]
  },
  {
   "cell_type": "markdown",
   "metadata": {},
   "source": [
    "<div class=\"alert alert-block alert-info\">\n",
    "First a by-hand optimized version of the naive baseline\n",
    "</div>"
   ]
  },
  {
   "cell_type": "code",
   "execution_count": 10,
   "metadata": {},
   "outputs": [],
   "source": [
    "# Parameters definition\n",
    "crit_comp = nn.CrossEntropyLoss\n",
    "crit_class = nn.CrossEntropyLoss\n",
    "optimizer = optim.Adam\n",
    "lr = 1e-3\n",
    "naive_baseline = Naive()\n",
    "############################"
   ]
  },
  {
   "cell_type": "code",
   "execution_count": 11,
   "metadata": {},
   "outputs": [
    {
     "name": "stdout",
     "output_type": "stream",
     "text": [
      "--------------------Train--------------------\n",
      "Accuracy 1st Network:    1.00   \n",
      "Accuracy 2nd Network:    1.00   \n",
      "Accuracy comparison:     1.00    \n",
      "--------------------Test--------------------\n",
      "Accuracy 1st Network:    0.93   \n",
      "Accuracy 2nd Network:    0.91   \n",
      "Accuracy comparison:     0.94    \n"
     ]
    }
   ],
   "source": [
    "train_double_model(train2_input,train2_target,train2_classes,naive_baseline,\n",
    "                   crit_comp,crit_class,optimizer,lr,nb_epochs=NB_EPOCHS,verbose=True,,prog_bar=True)\n",
    "print(sep + \"Train\" + sep)\n",
    "_ = get_double_accuracy(naive_baseline, train2_input, train2_target, train2_classes, verbose=True)\n",
    "print(sep + \"Test\" + sep)\n",
    "_ = get_double_accuracy(naive_baseline, test2_input, test2_target, test2_classes, verbose=True)"
   ]
  },
  {
   "cell_type": "markdown",
   "metadata": {},
   "source": [
    "<div class=\"alert alert-block alert-info\">\n",
    "More robust metric thanks to KFold cross validation\n",
    "</div>"
   ]
  },
  {
   "cell_type": "code",
   "execution_count": 5,
   "metadata": {},
   "outputs": [
    {
     "name": "stdout",
     "output_type": "stream",
     "text": [
      "--------------------Validation Accuracies for 2-fold:--------------------\n",
      "Accuracy 1st network: 0.91 +- 0.02\n",
      "Accuracy 2nd network: 0.89 +- 0.02\n",
      "Accuracy comparison:  0.94 +- 0.01\n"
     ]
    }
   ],
   "source": [
    "_ = Kfold_CVdouble(train2_input,train2_target,train2_classes,\n",
    "                   Naive(),crit_comp,crit_class,optimizer,lr,K=BIG_K,verbose=True,prog_bar=True)"
   ]
  },
  {
   "cell_type": "markdown",
   "metadata": {},
   "source": [
    "<div class=\"alert alert-block alert-info\">\n",
    "And an equivalent with both the weight sharing and the auxiliary losses activated\n",
    "</div>"
   ]
  },
  {
   "cell_type": "code",
   "execution_count": 11,
   "metadata": {},
   "outputs": [],
   "source": [
    "# Parameters definition\n",
    "crit_comp = nn.CrossEntropyLoss\n",
    "crit_class = nn.CrossEntropyLoss\n",
    "optimizer = optim.Adam\n",
    "lr = 1e-3\n",
    "lambda_ = 0.75\n",
    "net2 = WeightAux(True, True)\n",
    "############################"
   ]
  },
  {
   "cell_type": "code",
   "execution_count": 12,
   "metadata": {},
   "outputs": [
    {
     "name": "stdout",
     "output_type": "stream",
     "text": [
      "--------------------Train accuracy:--------------------\n",
      "Accuracy 1st Network:    0.78   \n",
      "Accuracy 2nd Network:    0.75   \n",
      "Accuracy comparison:     0.59    \n",
      "--------------------Test accuracy:--------------------\n",
      "Accuracy 1st Network:    0.70   \n",
      "Accuracy 2nd Network:    0.71   \n",
      "Accuracy comparison:     0.57    \n"
     ]
    }
   ],
   "source": [
    "train_double_model(train2_input,train2_target,train2_classes,\n",
    "                   net2,crit_comp,crit_class,optimizer,lr,lambda_,nb_epochs=NB_EPOCHS,verbose=True,prog_bar=False)\n",
    "print(sep + \"Train accuracy:\" + sep)\n",
    "_ = get_double_accuracy(\n",
    "    net2, train2_input, train2_target, train2_classes, verbose=True\n",
    ")\n",
    "print(sep + \"Test accuracy:\" + sep)\n",
    "_ = get_double_accuracy(net2, test2_input, test2_target, test2_classes, verbose=True)"
   ]
  },
  {
   "cell_type": "markdown",
   "metadata": {},
   "source": [
    "<div class=\"alert alert-block alert-info\">\n",
    "And for the WeightSharing\n",
    "</div>"
   ]
  },
  {
   "cell_type": "code",
   "execution_count": 13,
   "metadata": {},
   "outputs": [
    {
     "name": "stdout",
     "output_type": "stream",
     "text": [
      "--------------------Validation Accuracies for 2-fold:--------------------\n",
      "Accuracy 1st network: 0.92 +- 0.01\n",
      "Accuracy 2nd network: 0.92 +- 0.02\n",
      "Accuracy comparison:  0.82 +- 0.02\n"
     ]
    }
   ],
   "source": [
    "acc_list = Kfold_CVdouble(train2_input,train2_target,train2_classes,WeightAux(True, True),crit_comp,\n",
    "                          crit_class,optimizer,lr,lambda_,K=2,verbose=True,prog_bar=True)"
   ]
  },
  {
   "cell_type": "markdown",
   "metadata": {},
   "source": [
    "# Hyperparameter Optimization"
   ]
  },
  {
   "cell_type": "markdown",
   "metadata": {},
   "source": [
    "<div class=\"alert alert-block alert-info\">\n",
    "In order to improve the models mentionned above 2 types of hyperparameters optimization method were implemented:\n",
    "    \n",
    "* Grid Search\n",
    "* Genetic Algorithm\n",
    "    \n",
    "Both of these methods rely on the following param class which allow intuitive subsequent optimization.\n",
    "</div>"
   ]
  },
  {
   "cell_type": "code",
   "execution_count": 4,
   "metadata": {},
   "outputs": [],
   "source": [
    "# local\n",
    "from hyperopt import Param, HyperGrid, GetNTop, GetMax\n",
    "from gridsearch import GridSearch"
   ]
  },
  {
   "cell_type": "code",
   "execution_count": 5,
   "metadata": {},
   "outputs": [],
   "source": [
    "# 1 Architecture\n",
    "Archis = [\n",
    "    WeightAux(True, True),\n",
    "    WeightAux(True, False),\n",
    "    WeightAux(False, True),\n",
    "    WeightAux(False, False),\n",
    "]\n",
    "# 2 Comparison Loss Function\n",
    "CompLoss = [nn.CrossEntropyLoss, nn.NLLLoss, nn.MSELoss,nn.L1Loss]\n",
    "# 3 Class Loss Functions\n",
    "ClassLoss = [nn.CrossEntropyLoss, nn.NLLLoss, nn.MSELoss,nn.L1Loss]\n",
    "# 4 Optimizers\n",
    "Optimizers = [optim.SGD, optim.Adam, optim.Adagrad, optim.AdamW]\n",
    "# 5 Learning Rates\n",
    "LRs = [1e-4, 1e-3, 1e-2, 1e-1, 1]\n",
    "# 6 Ratios\n",
    "Lambdas = [0.2, 0.4, 0.7, 0.9]\n",
    "HYPER_PARAMS = [Archis, CompLoss,ClassLoss, Optimizers, LRs, Lambdas]"
   ]
  },
  {
   "cell_type": "markdown",
   "metadata": {},
   "source": [
    "## Grid Search Model"
   ]
  },
  {
   "cell_type": "code",
   "execution_count": 8,
   "metadata": {},
   "outputs": [
    {
     "name": "stdout",
     "output_type": "stream",
     "text": [
      "3.0 hours, 1.0 minute\n"
     ]
    }
   ],
   "source": [
    "HG = HyperGrid(*HYPER_PARAMS, \"./results/HYPERPARAM.pkl\")\n",
    "\n",
    "HG.estimate_time(train2_input, train2_target, train2_classes, K=3)"
   ]
  },
  {
   "cell_type": "code",
   "execution_count": 9,
   "metadata": {},
   "outputs": [
    {
     "name": "stdout",
     "output_type": "stream",
     "text": [
      "Grid Search progression: 0.00 %\n",
      "Grid Search done! Hyperparam saved.\n"
     ]
    }
   ],
   "source": [
    "GridSearch(HG,train2_input,train2_target,train2_classes)"
   ]
  },
  {
   "cell_type": "code",
   "execution_count": 10,
   "metadata": {},
   "outputs": [
    {
     "data": {
      "text/plain": [
       "[Arch_WeightshareAuxloss_CrossEntropyLoss_CrossEntropyLoss_SGD_0.0001_0.2_#ind#_-1.00_#score#_0.51,\n",
       " Arch_classic_L1Loss_L1Loss_AdamW_1_0.9_#ind#_-1.00_#score#_-1.00]"
      ]
     },
     "execution_count": 10,
     "metadata": {},
     "output_type": "execute_result"
    }
   ],
   "source": [
    "GetNTop(HG.lin_view(), 2)"
   ]
  },
  {
   "cell_type": "code",
   "execution_count": 11,
   "metadata": {},
   "outputs": [],
   "source": [
    "bestparam = GetMax(HG.lin_view())"
   ]
  },
  {
   "cell_type": "code",
   "execution_count": 12,
   "metadata": {},
   "outputs": [
    {
     "data": {
      "text/plain": [
       "Arch_WeightshareAuxloss_CrossEntropyLoss_CrossEntropyLoss_SGD_0.0001_0.2_#ind#_-1.00_#score#_0.51"
      ]
     },
     "execution_count": 12,
     "metadata": {},
     "output_type": "execute_result"
    }
   ],
   "source": [
    "bestparam"
   ]
  },
  {
   "cell_type": "markdown",
   "metadata": {},
   "source": [
    "<div class=\"alert alert-block alert-info\">\n",
    "We re-evaluate the best model on a bigger K-Fold to obtain more robust metric.\n",
    "</div>"
   ]
  },
  {
   "cell_type": "code",
   "execution_count": 13,
   "metadata": {},
   "outputs": [
    {
     "name": "stdout",
     "output_type": "stream",
     "text": [
      "--------------------Validation Accuracies for 2-fold:--------------------\n",
      "Accuracy 1st network: 0.10 +- 0.01\n",
      "Accuracy 2nd network: 0.08 +- 0.02\n",
      "Accuracy comparison:  0.49 +- 0.05\n"
     ]
    }
   ],
   "source": [
    "_ = bestparam.KFold(train2_input, train2_target, train2_classes, K=BIG_K, verbose=True,prog_bar=True)"
   ]
  },
  {
   "cell_type": "markdown",
   "metadata": {},
   "source": [
    "## Grid Search Model Naive"
   ]
  },
  {
   "cell_type": "code",
   "execution_count": 14,
   "metadata": {},
   "outputs": [],
   "source": [
    "HYPER_PARAMS_NAIVE = [[Naive()], [nn.CrossEntropyLoss],ClassLoss, Optimizers, LRs, [0]]\n",
    "HG_naive = HyperGrid(*HYPER_PARAMS_NAIVE, \"./results/HYPERPARAM_naive.pkl\")"
   ]
  },
  {
   "cell_type": "code",
   "execution_count": 15,
   "metadata": {},
   "outputs": [
    {
     "name": "stdout",
     "output_type": "stream",
     "text": [
      "Grid Search progression: 0.00 %\n",
      "Grid Search done! Hyperparam saved.\n"
     ]
    }
   ],
   "source": [
    "GridSearch(HG_naive,train2_input,train2_target,train2_classes)"
   ]
  },
  {
   "cell_type": "code",
   "execution_count": 16,
   "metadata": {},
   "outputs": [
    {
     "data": {
      "text/plain": [
       "[NaiveArch_CrossEntropyLoss_CrossEntropyLoss_SGD_0.0001_0_#ind#_-1.00_#score#_0.56,\n",
       " NaiveArch_CrossEntropyLoss_L1Loss_AdamW_1_0_#ind#_-1.00_#score#_-1.00,\n",
       " NaiveArch_CrossEntropyLoss_L1Loss_AdamW_0.1_0_#ind#_-1.00_#score#_-1.00,\n",
       " NaiveArch_CrossEntropyLoss_L1Loss_AdamW_0.01_0_#ind#_-1.00_#score#_-1.00,\n",
       " NaiveArch_CrossEntropyLoss_L1Loss_AdamW_0.001_0_#ind#_-1.00_#score#_-1.00]"
      ]
     },
     "execution_count": 16,
     "metadata": {},
     "output_type": "execute_result"
    }
   ],
   "source": [
    "GetNTop(HG_naive.lin_view(),5)"
   ]
  },
  {
   "cell_type": "code",
   "execution_count": 17,
   "metadata": {},
   "outputs": [],
   "source": [
    "bestparam_naive = GetMax(HG_naive.lin_view())"
   ]
  },
  {
   "cell_type": "markdown",
   "metadata": {},
   "source": [
    "<div class=\"alert alert-block alert-info\">\n",
    "We re-evaluate the best model on a bigger K-Fold to obtain more robust metric.\n",
    "</div>"
   ]
  },
  {
   "cell_type": "code",
   "execution_count": 19,
   "metadata": {
    "collapsed": true,
    "jupyter": {
     "outputs_hidden": true
    }
   },
   "outputs": [
    {
     "name": "stdout",
     "output_type": "stream",
     "text": [
      "Progression 10.00%\n"
     ]
    },
    {
     "ename": "KeyboardInterrupt",
     "evalue": "",
     "output_type": "error",
     "traceback": [
      "\u001b[0;31m---------------------------------------------------------------------------\u001b[0m",
      "\u001b[0;31mKeyboardInterrupt\u001b[0m                         Traceback (most recent call last)",
      "\u001b[0;32m<ipython-input-19-bd599686cae4>\u001b[0m in \u001b[0;36m<module>\u001b[0;34m\u001b[0m\n\u001b[0;32m----> 1\u001b[0;31m \u001b[0mbestparam_naive\u001b[0m\u001b[0;34m.\u001b[0m\u001b[0mKFold\u001b[0m\u001b[0;34m(\u001b[0m\u001b[0mtrain2_input\u001b[0m\u001b[0;34m,\u001b[0m\u001b[0mtrain2_target\u001b[0m\u001b[0;34m,\u001b[0m\u001b[0mtrain2_classes\u001b[0m\u001b[0;34m,\u001b[0m\u001b[0mK\u001b[0m\u001b[0;34m=\u001b[0m\u001b[0mBIG_K\u001b[0m\u001b[0;34m,\u001b[0m\u001b[0mverbose\u001b[0m\u001b[0;34m=\u001b[0m\u001b[0;32mTrue\u001b[0m\u001b[0;34m,\u001b[0m\u001b[0mprog_bar\u001b[0m\u001b[0;34m=\u001b[0m\u001b[0;32mTrue\u001b[0m\u001b[0;34m)\u001b[0m\u001b[0;34m\u001b[0m\u001b[0;34m\u001b[0m\u001b[0m\n\u001b[0m",
      "\u001b[0;32m~/Documents/Cours/DeepLearning/Proj1/src/hyperopt.py\u001b[0m in \u001b[0;36mKFold\u001b[0;34m(self, train2_input, train2_target, train2_classes, nb_epochs, K, verbose, prog_bar)\u001b[0m\n\u001b[1;32m     90\u001b[0m         \"\"\"\n\u001b[1;32m     91\u001b[0m         scores = Kfold_CVdouble(train2_input,train2_target,train2_classes,\n\u001b[0;32m---> 92\u001b[0;31m                                 *self.get_params(),nb_epochs=nb_epochs,K=K,verbose=verbose,prog_bar=prog_bar)\n\u001b[0m\u001b[1;32m     93\u001b[0m         \u001b[0mself\u001b[0m\u001b[0;34m.\u001b[0m\u001b[0mset_scores\u001b[0m\u001b[0;34m(\u001b[0m\u001b[0mscores\u001b[0m\u001b[0;34m)\u001b[0m\u001b[0;34m\u001b[0m\u001b[0;34m\u001b[0m\u001b[0m\n\u001b[1;32m     94\u001b[0m         \u001b[0;32mreturn\u001b[0m \u001b[0mscores\u001b[0m\u001b[0;34m\u001b[0m\u001b[0;34m\u001b[0m\u001b[0m\n",
      "\u001b[0;32m~/Documents/Cours/DeepLearning/Proj1/src/opt.py\u001b[0m in \u001b[0;36mKfold_CVdouble\u001b[0;34m(inputs, targets, classes, model_template, crit_comp, crit_class, optimizer, lr, lambd_, K, nb_epochs, verbose, prog_bar)\u001b[0m\n\u001b[1;32m    380\u001b[0m \u001b[0;34m\u001b[0m\u001b[0m\n\u001b[1;32m    381\u001b[0m         train_double_model(train_inp,train_targ,train_classes,model,crit_comp,crit_class,optimizer,\n\u001b[0;32m--> 382\u001b[0;31m                            lr,lambd_,nb_epochs=nb_epochs)\n\u001b[0m\u001b[1;32m    383\u001b[0m         \u001b[0mres\u001b[0m \u001b[0;34m=\u001b[0m \u001b[0mget_double_accuracy\u001b[0m\u001b[0;34m(\u001b[0m\u001b[0mmodel\u001b[0m\u001b[0;34m,\u001b[0m \u001b[0mtest_inp\u001b[0m\u001b[0;34m,\u001b[0m \u001b[0mtest_targ\u001b[0m\u001b[0;34m,\u001b[0m \u001b[0mtest_classes\u001b[0m\u001b[0;34m)\u001b[0m\u001b[0;34m\u001b[0m\u001b[0;34m\u001b[0m\u001b[0m\n\u001b[1;32m    384\u001b[0m         \u001b[0;31m# 0th column: 1st group acc 1th column 2nd group acc 3rd column comp accuracy\u001b[0m\u001b[0;34m\u001b[0m\u001b[0;34m\u001b[0m\u001b[0;34m\u001b[0m\u001b[0m\n",
      "\u001b[0;32m~/Documents/Cours/DeepLearning/Proj1/src/opt.py\u001b[0m in \u001b[0;36mtrain_double_model\u001b[0;34m(train_input, train_target, train_classes, model, crit_comp, crit_class, optimizer, lr, lambd_, nb_epochs, verbose, prog_bar)\u001b[0m\n\u001b[1;32m    341\u001b[0m                 \u001b[0mtotloss\u001b[0m \u001b[0;34m=\u001b[0m \u001b[0mloss_comp\u001b[0m\u001b[0;34m\u001b[0m\u001b[0;34m\u001b[0m\u001b[0m\n\u001b[1;32m    342\u001b[0m             \u001b[0mmodel\u001b[0m\u001b[0;34m.\u001b[0m\u001b[0mzero_grad\u001b[0m\u001b[0;34m(\u001b[0m\u001b[0;34m)\u001b[0m\u001b[0;34m\u001b[0m\u001b[0;34m\u001b[0m\u001b[0m\n\u001b[0;32m--> 343\u001b[0;31m             \u001b[0mtotloss\u001b[0m\u001b[0;34m.\u001b[0m\u001b[0mbackward\u001b[0m\u001b[0;34m(\u001b[0m\u001b[0;34m)\u001b[0m\u001b[0;34m\u001b[0m\u001b[0;34m\u001b[0m\u001b[0m\n\u001b[0m\u001b[1;32m    344\u001b[0m             \u001b[0moptimizer\u001b[0m\u001b[0;34m.\u001b[0m\u001b[0mstep\u001b[0m\u001b[0;34m(\u001b[0m\u001b[0;34m)\u001b[0m\u001b[0;34m\u001b[0m\u001b[0;34m\u001b[0m\u001b[0m\n\u001b[1;32m    345\u001b[0m \u001b[0;34m\u001b[0m\u001b[0m\n",
      "\u001b[0;32m~/anaconda3/envs/ML/lib/python3.7/site-packages/torch/tensor.py\u001b[0m in \u001b[0;36mbackward\u001b[0;34m(self, gradient, retain_graph, create_graph)\u001b[0m\n\u001b[1;32m    196\u001b[0m                 \u001b[0mproducts\u001b[0m\u001b[0;34m.\u001b[0m \u001b[0mDefaults\u001b[0m \u001b[0mto\u001b[0m\u001b[0;31m \u001b[0m\u001b[0;31m`\u001b[0m\u001b[0;31m`\u001b[0m\u001b[0;32mFalse\u001b[0m\u001b[0;31m`\u001b[0m\u001b[0;31m`\u001b[0m\u001b[0;34m.\u001b[0m\u001b[0;34m\u001b[0m\u001b[0;34m\u001b[0m\u001b[0m\n\u001b[1;32m    197\u001b[0m         \"\"\"\n\u001b[0;32m--> 198\u001b[0;31m         \u001b[0mtorch\u001b[0m\u001b[0;34m.\u001b[0m\u001b[0mautograd\u001b[0m\u001b[0;34m.\u001b[0m\u001b[0mbackward\u001b[0m\u001b[0;34m(\u001b[0m\u001b[0mself\u001b[0m\u001b[0;34m,\u001b[0m \u001b[0mgradient\u001b[0m\u001b[0;34m,\u001b[0m \u001b[0mretain_graph\u001b[0m\u001b[0;34m,\u001b[0m \u001b[0mcreate_graph\u001b[0m\u001b[0;34m)\u001b[0m\u001b[0;34m\u001b[0m\u001b[0;34m\u001b[0m\u001b[0m\n\u001b[0m\u001b[1;32m    199\u001b[0m \u001b[0;34m\u001b[0m\u001b[0m\n\u001b[1;32m    200\u001b[0m     \u001b[0;32mdef\u001b[0m \u001b[0mregister_hook\u001b[0m\u001b[0;34m(\u001b[0m\u001b[0mself\u001b[0m\u001b[0;34m,\u001b[0m \u001b[0mhook\u001b[0m\u001b[0;34m)\u001b[0m\u001b[0;34m:\u001b[0m\u001b[0;34m\u001b[0m\u001b[0;34m\u001b[0m\u001b[0m\n",
      "\u001b[0;32m~/anaconda3/envs/ML/lib/python3.7/site-packages/torch/autograd/__init__.py\u001b[0m in \u001b[0;36mbackward\u001b[0;34m(tensors, grad_tensors, retain_graph, create_graph, grad_variables)\u001b[0m\n\u001b[1;32m     98\u001b[0m     Variable._execution_engine.run_backward(\n\u001b[1;32m     99\u001b[0m         \u001b[0mtensors\u001b[0m\u001b[0;34m,\u001b[0m \u001b[0mgrad_tensors\u001b[0m\u001b[0;34m,\u001b[0m \u001b[0mretain_graph\u001b[0m\u001b[0;34m,\u001b[0m \u001b[0mcreate_graph\u001b[0m\u001b[0;34m,\u001b[0m\u001b[0;34m\u001b[0m\u001b[0;34m\u001b[0m\u001b[0m\n\u001b[0;32m--> 100\u001b[0;31m         allow_unreachable=True)  # allow_unreachable flag\n\u001b[0m\u001b[1;32m    101\u001b[0m \u001b[0;34m\u001b[0m\u001b[0m\n\u001b[1;32m    102\u001b[0m \u001b[0;34m\u001b[0m\u001b[0m\n",
      "\u001b[0;31mKeyboardInterrupt\u001b[0m: "
     ]
    }
   ],
   "source": [
    "bestparam_naive.KFold(train2_input,train2_target,train2_classes,K=BIG_K,verbose=True,prog_bar=True)\n"
   ]
  },
  {
   "cell_type": "markdown",
   "metadata": {},
   "source": [
    "## Genetic Algorithm"
   ]
  },
  {
   "cell_type": "code",
   "execution_count": 6,
   "metadata": {},
   "outputs": [],
   "source": [
    "from genetic import (\n",
    "    generate_population,\n",
    "    compute_individuality,\n",
    "    compute_fitness,\n",
    "    selection,\n",
    "    breed,\n",
    "    plot_population,\n",
    ")"
   ]
  },
  {
   "cell_type": "code",
   "execution_count": 7,
   "metadata": {},
   "outputs": [],
   "source": [
    "Param.set_hyper_params(HYPER_PARAMS)"
   ]
  },
  {
   "cell_type": "markdown",
   "metadata": {},
   "source": [
    "* START<br>\n",
    "    - Generate the initial population<br>\n",
    "    - Compute fitness<br>\n",
    "* REPEAT<br>\n",
    "    - Selection<br>\n",
    "    - Crossover<br>\n",
    "    - Mutation<br>\n",
    "    - Compute fitness<br>\n",
    "* UNTIL population has converged<br>\n",
    "* STOP<br>"
   ]
  },
  {
   "cell_type": "markdown",
   "metadata": {},
   "source": [
    "Assumption: complex : hill climbing algorithm might get stuck in."
   ]
  },
  {
   "cell_type": "code",
   "execution_count": null,
   "metadata": {},
   "outputs": [],
   "source": [
    "%%time\n",
    "####################################\n",
    "# size of the population\n",
    "N_POP = 10\n",
    "# number of iteration of selection\n",
    "N_ITER = 30\n",
    "# selection ratio\n",
    "SELEC_RATIO = 0.6\n",
    "# chance of mutation\n",
    "CHANCE = 0.1\n",
    "# number of fold for evaluation\n",
    "K = 3\n",
    "####################################\n",
    "\n",
    "# we keep a param to receive\n",
    "best_indiv = Param()\n",
    "# initial population\n",
    "population = generate_population(N_POP)\n",
    "compute_fitness(\n",
    "    train2_input, train2_target, train2_classes, population, K=K, verbose=True\n",
    ")\n",
    "compute_individuality(population)\n",
    "for i in range(N_ITER):\n",
    "    clear_output(wait=False)\n",
    "    print(\"Population Progression: {} %\".format(i / N_ITER * 100))\n",
    "    plot_population(population)\n",
    "    plt.pause(0.05)\n",
    "    population = selection(population, selec_ratio=SELEC_RATIO)\n",
    "    if population[0].score_mean > best_indiv.score_mean:\n",
    "        best_indiv = population[0]\n",
    "    population = breed(population, n_pop=N_POP, chance=CHANCE)\n",
    "    compute_fitness(train2_input, train2_target, train2_classes, population, K=K)\n",
    "    compute_individuality(population)\n",
    "    torch.save(population,\"./results/GEN_ALG.pickle\", pickle_module=pickle)"
   ]
  },
  {
   "cell_type": "markdown",
   "metadata": {},
   "source": [
    "<div class=\"alert alert-block alert-info\">\n",
    "Once again, we compute the score on a bigger K-fold for consistent results\n",
    "</div>"
   ]
  },
  {
   "cell_type": "code",
   "execution_count": 53,
   "metadata": {},
   "outputs": [
    {
     "name": "stdout",
     "output_type": "stream",
     "text": [
      "--------------------Validation Accuracies for 10-fold:--------------------\n",
      "Accuracy 1st network: 0.95 +- 0.03\n",
      "Accuracy 2nd network: 0.95 +- 0.03\n",
      "Accuracy comparison:  0.86 +- 0.07\n"
     ]
    },
    {
     "data": {
      "text/plain": [
       "tensor([0.8600, 0.8200, 0.9200, 0.9200, 0.9200, 0.8800, 0.9000, 0.8800, 0.7800,\n",
       "        0.7200])"
      ]
     },
     "execution_count": 53,
     "metadata": {},
     "output_type": "execute_result"
    }
   ],
   "source": [
    "best_indiv.KFold(train2_input, train2_target, train2_classes, K=BIG_K, verbose=True)"
   ]
  }
 ],
 "metadata": {
  "kernelspec": {
   "display_name": "Python [conda env:ML] *",
   "language": "python",
   "name": "conda-env-ML-py"
  },
  "language_info": {
   "codemirror_mode": {
    "name": "ipython",
    "version": 3
   },
   "file_extension": ".py",
   "mimetype": "text/x-python",
   "name": "python",
   "nbconvert_exporter": "python",
   "pygments_lexer": "ipython3",
   "version": "3.7.4"
  }
 },
 "nbformat": 4,
 "nbformat_minor": 4
}
