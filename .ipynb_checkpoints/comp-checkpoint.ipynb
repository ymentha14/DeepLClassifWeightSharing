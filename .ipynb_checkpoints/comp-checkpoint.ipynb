{
 "cells": [
  {
   "cell_type": "code",
   "execution_count": 1,
   "metadata": {},
   "outputs": [],
   "source": [
    "import torch\n",
    "import torch.nn as nn\n",
    "from IPython.display import clear_output\n",
    "from IPython.core.debugger import set_trace\n",
    "from torch.nn import functional as F\n",
    "from torch import optim\n",
    "import pickle\n",
    "import copy\n",
    "import math\n",
    "%load_ext autoreload\n",
    "%autoreload 2\n",
    "import dlc_practical_prologue as dl"
   ]
  },
  {
   "cell_type": "code",
   "execution_count": 2,
   "metadata": {},
   "outputs": [
    {
     "name": "stdout",
     "output_type": "stream",
     "text": [
      "* Using MNIST\n",
      "** Reduce the data-set (use --full for the full thing)\n",
      "** Use 1000 train and 1000 test samples\n"
     ]
    }
   ],
   "source": [
    "train_input, train_target, test_input, test_target = dl.load_data(flatten=False)\n",
    "train_input = torch.functional.F.avg_pool2d(train_input, kernel_size = 2)\n",
    "test_input = torch.functional.F.avg_pool2d(test_input, kernel_size = 2)"
   ]
  },
  {
   "cell_type": "code",
   "execution_count": 80,
   "metadata": {},
   "outputs": [],
   "source": [
    "class Net2(nn.Module):\n",
    "    def __init__(self,n_hidden = 100,chan = 1):\n",
    "        super(Net2,self).__init__()\n",
    "        self.hidden = n_hidden\n",
    "        self.conv_block1 = nn.Sequential(\n",
    "            nn.Conv2d(chan,32,kernel_size=3),\n",
    "            nn.MaxPool2d(kernel_size=2,stride=2),\n",
    "            nn.BatchNorm2d(32),\n",
    "            nn.ReLU()\n",
    "        )\n",
    "        self.conv_block2 = nn.Sequential(\n",
    "            nn.Conv2d(32,64,kernel_size=3),\n",
    "            nn.MaxPool2d(kernel_size=2,stride=2)\n",
    "            ,nn.BatchNorm2d(64)\n",
    "        )\n",
    "        self.classifier = nn.Sequential(\n",
    "            nn.Linear(256,n_hidden),\n",
    "           # nn.Dropout(0.5),\n",
    "            nn.Linear(n_hidden,10)\n",
    "            #nn.Softmax2d()\n",
    "        )\n",
    "    def forward(self,x):\n",
    "        x = self.conv_block1(x)\n",
    "        x = self.conv_block2(x)\n",
    "        x = self.classifier(x.view(x.size(0),-1))\n",
    "        return x"
   ]
  },
  {
   "cell_type": "code",
   "execution_count": 71,
   "metadata": {},
   "outputs": [],
   "source": [
    "def get_accuracy(model,inputs,targets):\n",
    "    assert(inputs.size(0) == targets.size(0))\n",
    "    tot_loss = 0\n",
    "    nb_correct = 0\n",
    "    batch_size = 20\n",
    "    for train,target in zip(inputs.split(batch_size),\n",
    "                           targets.split(batch_size)):\n",
    "        pred = model(train)\n",
    "        pred = torch.argmax(pred,axis = 1)\n",
    "        nb_correct += (pred == target).int().sum().item()\n",
    "    accuracy = nb_correct /inputs.size(0)\n",
    "    print(\"accuracy: %.2f\" % (accuracy) )\n",
    "    return accuracy"
   ]
  },
  {
   "cell_type": "code",
   "execution_count": 78,
   "metadata": {},
   "outputs": [],
   "source": [
    "def train_model(model,train_input,train_target,nb_epochs=25):\n",
    "    optimizer = optim.Adam(model.parameters(), lr = 1e-3)\n",
    "    batch_size = 100\n",
    "    criterion = nn.CrossEntropyLoss()\n",
    "    for e in range(nb_epochs):\n",
    "        clear_output(wait=True)\n",
    "        print(\"Progression:{:.2f}\".format(e/nb_epochs*100))\n",
    "        for inputs,targets in zip(train_input.split(batch_size),\n",
    "                            train_target.split(batch_size)):\n",
    "            output = model(inputs)\n",
    "            loss = criterion(output,targets)\n",
    "            model.zero_grad()\n",
    "            loss.backward()\n",
    "            optimizer.step()"
   ]
  },
  {
   "cell_type": "code",
   "execution_count": 81,
   "metadata": {},
   "outputs": [
    {
     "name": "stdout",
     "output_type": "stream",
     "text": [
      "Progression:96.00\n",
      "accuracy: 1.00\n",
      "accuracy: 0.94\n"
     ]
    },
    {
     "data": {
      "text/plain": [
       "0.942"
      ]
     },
     "execution_count": 81,
     "metadata": {},
     "output_type": "execute_result"
    }
   ],
   "source": [
    "model = Net2()\n",
    "train_model(model,train_input,train_target)\n",
    "get_accuracy(model,train_input,train_target)\n",
    "get_accuracy(model,test_input,test_target)"
   ]
  },
  {
   "cell_type": "code",
   "execution_count": 82,
   "metadata": {},
   "outputs": [],
   "source": [
    "def Kfold_CV(classtype,inputs,targets,K=4):\n",
    "    assert(K>=2)\n",
    "    N = inputs.size(0)\n",
    "    indxes = torch.randperm(N)\\\n",
    "                  .split(int(N/K))\n",
    "    accs = torch.empty(K)\n",
    "    for k in range(K):\n",
    "        model = classtype()\n",
    "        \n",
    "        test_indx = indxes[k]\n",
    "        train_indx = torch.cat((indxes[:k]+indxes[k+1:]),0)\n",
    "        \n",
    "        train_inp,train_targ = inputs[train_indx],targets[train_indx]\n",
    "        test_inp,test_targ = inputs[test_indx],targets[test_indx]\n",
    "        train_model(model,train_inp,train_targ)\n",
    "        acc = get_accuracy(model,test_inp,test_targ)\n",
    "        accs[k] = acc\n",
    "    print(\"Accuracies for {}-fold:{}\".format(K,accs.tolist()))\n",
    "    print(\"Mean acc:{}\".format(accs.mean()))"
   ]
  },
  {
   "cell_type": "code",
   "execution_count": 83,
   "metadata": {},
   "outputs": [
    {
     "name": "stdout",
     "output_type": "stream",
     "text": [
      "Progression:96.00\n",
      "accuracy: 0.94\n",
      "Accuracies for 4-fold:[0.9240000247955322, 0.9639999866485596, 0.9559999704360962, 0.9440000057220459]\n",
      "Mean acc:0.9469999670982361\n"
     ]
    }
   ],
   "source": [
    "Kfold_CV(Net2,train_input,train_target)"
   ]
  },
  {
   "cell_type": "markdown",
   "metadata": {},
   "source": [
    "## Dealing with double Images"
   ]
  },
  {
   "cell_type": "code",
   "execution_count": 132,
   "metadata": {},
   "outputs": [],
   "source": [
    "class WeightAux(nn.Module):\n",
    "    def __init__(self,weightshare=True,auxloss=True):\n",
    "        super(WeightAux,self).__init__()\n",
    "        self.weightshare = weightshare\n",
    "        self.auxloss = auxloss\n",
    "        self.net0 = Net2()\n",
    "        self.net1 = Net2()\n",
    "        self.linblock = nn.Sequential(nn.Linear(20,40),\n",
    "                                     nn.ReLU(),\n",
    "                                     nn.Linear(40,80),\n",
    "                                     nn.ReLU(),\n",
    "                                     nn.Linear(80,2))\n",
    "\n",
    "        \n",
    "    def forward(self,x):\n",
    "        x0 = self.net0(x[:,0].unsqueeze(1))\n",
    "        x1 = self.net0(x[:,1].unsqueeze(1)) if self.weightshare else self.net0(x[:,1].unsqueeze(1))\n",
    "        comp = torch.cat((x0,x1),dim=1)\n",
    "        comp = self.linblock(comp)\n",
    "        return x0,x1,comp\n",
    "    def __str__(self):\n",
    "        stro = \"Arch\"\n",
    "        if self.weightshare:\n",
    "            stro += \"W\"\n",
    "        if self.auxloss:\n",
    "            stro += \"A\"\n",
    "        return stro"
   ]
  },
  {
   "cell_type": "code",
   "execution_count": 133,
   "metadata": {},
   "outputs": [
    {
     "name": "stdout",
     "output_type": "stream",
     "text": [
      "####################Train accuracy:####################\n",
      "Accuracy 1st Network:    1.00   \n",
      "Accuracy 2nd Network:    1.00   \n",
      "Accuracy comparison:     1.00    \n",
      "####################Test accuracy:####################\n",
      "Accuracy 1st Network:    0.93   \n",
      "Accuracy 2nd Network:    0.92   \n",
      "Accuracy comparison:     0.83    \n"
     ]
    }
   ],
   "source": [
    "net2 = WeightAux(True,True)\n",
    "train_double_model(train2_input,train2_target,train2_classes,\\\n",
    "                   net2,nn.CrossEntropyLoss,optim.SGD,1e-0,0.75,nb_epochs=25)\n",
    "print(sep + \"Train accuracy:\" + sep)\n",
    "accuracy_double_model(net2,train2_input,train2_target,train2_classes,verbose=True)\n",
    "print(sep+ \"Test accuracy:\" + sep)\n",
    "_ = accuracy_double_model(net2,test2_input,test2_target,test2_classes,verbose=True)"
   ]
  },
  {
   "cell_type": "code",
   "execution_count": 134,
   "metadata": {},
   "outputs": [],
   "source": [
    "class Naive(nn.Module):\n",
    "    def __init__(self):\n",
    "        super(WeightAux,self).__init__()\n",
    "        self.net0 = Net2()\n",
    "        self.net1 = Net2()\n",
    "        \n",
    "    def forward(self,x):\n",
    "        x0 = self.net0(x[:,0].unsqueeze(1))\n",
    "        x1 = self.net1(x[:,1].unsqueeze(1))\n",
    "        comp = (x0 <= x1).int()\n",
    "        return x0,x1,comp\n",
    "    def __str__(self):\n",
    "        stro = \"Arch\"\n",
    "        if self.weightshare:\n",
    "            stro += \"W\"\n",
    "        if self.auxloss:\n",
    "            stro += \"A\"\n",
    "        return stro"
   ]
  },
  {
   "cell_type": "code",
   "execution_count": 135,
   "metadata": {},
   "outputs": [],
   "source": [
    "sep = \"#\" * 20"
   ]
  },
  {
   "cell_type": "code",
   "execution_count": 136,
   "metadata": {},
   "outputs": [],
   "source": [
    "def accuracy_double_model(model,train_input,train_target,train_classes,verbose=False):\n",
    "    assert(train_input.size(0) == train_target.size(0))\n",
    "    N = train_input.size(0)\n",
    "    tot_loss = 0\n",
    "    nb_correct = 0\n",
    "    batch_size = 20\n",
    "    \n",
    "    #given a prediction powre and the target, output the number of correctly classified samples\n",
    "    add_res = lambda pred,target:(torch.argmax(pred,axis = 1) == target).int().sum().item()\n",
    "    \n",
    "    score0 = 0\n",
    "    score1 = 0\n",
    "    scorecomp = 0\n",
    "    \n",
    "    for inputs,comp_targs,classes in zip(train_input.split(batch_size),\n",
    "                                           train_target.split(batch_size),\n",
    "                                        train_classes.split(batch_size)):\n",
    "        targ0 = classes[:,0]\n",
    "        targ1 = classes[:,1]\n",
    "        x0,x1,comp = model(inputs)\n",
    "        \n",
    "        score0 += add_res(x0,targ0)\n",
    "        score1 += add_res(x1,targ1)\n",
    "        scorecomp += add_res(comp,comp_targs)\n",
    "        \n",
    "    acc0 = score0 / N\n",
    "    acc1 = score1 / N\n",
    "    acc_comp = scorecomp / N\n",
    "    \n",
    "    if verbose:\n",
    "        print(\"Accuracy 1st Network: {:^10.2f}\".format(acc0) )\n",
    "        print(\"Accuracy 2nd Network: {:^10.2f}\".format(acc1))\n",
    "        print(\"Accuracy comparison: {:^12.2f}\".format(acc_comp))\n",
    "\n",
    "    return acc0,acc1,acc_comp"
   ]
  },
  {
   "cell_type": "code",
   "execution_count": 117,
   "metadata": {},
   "outputs": [
    {
     "name": "stdout",
     "output_type": "stream",
     "text": [
      "* Using MNIST\n",
      "** Reduce the data-set (use --full for the full thing)\n",
      "** Use 1000 train and 1000 test samples\n"
     ]
    }
   ],
   "source": [
    "N_SAMPLES = 500\n",
    "a, b, c, d = dl.load_data(flatten=False)\n",
    "train2_input, train2_target, train2_classes = dl.mnist_to_pairs(N_SAMPLES,a,b)\n",
    "test2_input, test2_target, test2_classes = dl.mnist_to_pairs(N_SAMPLES,c,d)"
   ]
  },
  {
   "cell_type": "code",
   "execution_count": 137,
   "metadata": {},
   "outputs": [],
   "source": [
    "def train_double_model(train_input,train_target,train_classes,\\\n",
    "                       model,crit_comp,optimizer,lr,lambd_,nb_epochs=5,verbose=False):\n",
    "    \"\"\"\n",
    "    Args:\n",
    "        model: the model to train (3 arch)\n",
    "        crit_comp: the criterion for comparison (2 sorts)\n",
    "        optimizer: the chosen optimizer (3 types)\n",
    "        lr: learning rate (4 types)\n",
    "        ratio loss: the amount of each loss (3 values)\n",
    "        lambd_: ratio lambd_ * comp_loss + (1-lambd_) * class_loss\n",
    "    \"\"\"\n",
    "    crit_comp = crit_comp()\n",
    "    optimizer = optimizer(model.parameters(), lr = lr)\n",
    "\n",
    "    batch_size = 100\n",
    "    crit_class = nn.CrossEntropyLoss()\n",
    "    for e in range(nb_epochs):\n",
    "        if verbose:\n",
    "            clear_output(wait=True)\n",
    "            print(\"Progression:{:.2f}\".format(e/nb_epochs*100))\n",
    "        for inputs,comp_targs,classes in zip(train_input.split(batch_size),\n",
    "                                           train_target.split(batch_size),\n",
    "                                           train_classes.split(batch_size)):\n",
    "            targ0 = classes[:,0]\n",
    "            targ1 = classes[:,1]\n",
    "            x0,x1,comp = model(inputs)\n",
    "            loss_class = crit_class(x0,targ0) + crit_class(x1,targ1)\n",
    "            loss_comp = crit_comp(comp,comp_targs)\n",
    "            if (isinstance(model,Naive)):\n",
    "                totloss = loss_class\n",
    "            elif model.auxloss:\n",
    "                totloss = lambd_ * loss_comp + (1- lambd_) *loss_class\n",
    "            else:\n",
    "                totloss = loss_comp\n",
    "            model.zero_grad()\n",
    "            totloss.backward()\n",
    "            optimizer.step()"
   ]
  },
  {
   "cell_type": "code",
   "execution_count": 138,
   "metadata": {},
   "outputs": [],
   "source": [
    "def Kfold_CVdouble(inputs,targets,classes,\\\n",
    "                   model_template,crit_comp,optimizer,lr,lambd_,K=4,verbose=False):\n",
    "    \"\"\"\n",
    "    Args:\n",
    "        model_template: the type of architecture for classif (3 arch)\n",
    "        crit_comp: the criterion for comparison (2 sorts)\n",
    "        optimizer: the chosen optimizer (3 types)\n",
    "        lr: learning rate (4 types)\n",
    "        ratio loss: the amount of each loss (3 values)\n",
    "        lambd_: ratio lambd_ * comp_loss + (1-lambd_) * class_loss\n",
    "    \"\"\"\n",
    "    assert(K>=2)\n",
    "    N = inputs.size(0)\n",
    "    indxes = torch.randperm(N)\\\n",
    "                  .split(int(N/K))\n",
    "    accs = torch.empty(K,3)\n",
    "    for k in range(K):\n",
    "        model = copy.deepcopy(model_template)\n",
    "        \n",
    "        test_indx = indxes[k]\n",
    "        train_indx = torch.cat((indxes[:k]+indxes[k+1:]),0)\n",
    "        \n",
    "        train_inp = inputs[train_indx]\n",
    "        train_targ = targets[train_indx]\n",
    "        train_classes = classes[train_indx]\n",
    "        \n",
    "        test_inp  = inputs[test_indx]\n",
    "        test_targ = targets[test_indx]\n",
    "        test_classes = classes[test_indx]\n",
    "        \n",
    "        train_double_model(train_inp,train_targ,train_classes,\\\n",
    "                          model,crit_comp,optimizer,lr,lambd_,verbose=verbose)\n",
    "        res = accuracy_double_model(model,test_inp,test_targ,test_classes)\n",
    "        #0th column: 1st group acc 1th column 2nd group acc 3rd column comp accuracy\n",
    "        accs[k] = torch.Tensor(res)\n",
    "    if verbose:\n",
    "        print(sep + \"Accuracies for {}-fold:\".format(K) + sep)\n",
    "        print(\"1st group acc:{:^14.2f}\".format(accs[:,0].mean().item()))\n",
    "        print(\"2nd group acc:{:^14.2f}\".format(accs[:,1].mean().item()))\n",
    "        print(\"Comparison acc:{:^12.2f}\".format(accs[:,2].mean().item()))\n",
    "    return accs[:,2]"
   ]
  },
  {
   "cell_type": "code",
   "execution_count": 20,
   "metadata": {},
   "outputs": [
    {
     "name": "stdout",
     "output_type": "stream",
     "text": [
      "Progression:80.00\n",
      "####################Accuracies for 5-fold:####################\n",
      "1st group acc:     0.91     \n",
      "2nd group acc:     0.91     \n",
      "Comparison acc:    0.83    \n"
     ]
    },
    {
     "data": {
      "text/plain": [
       "tensor([0.8000, 0.8600, 0.8400, 0.8400, 0.8300])"
      ]
     },
     "execution_count": 20,
     "metadata": {},
     "output_type": "execute_result"
    }
   ],
   "source": [
    "Kfold_CVdouble(train2_input,train2_target,train2_classes,\\\n",
    "               WeightAux(True,True),nn.CrossEntropyLoss,optim.SGD,1e-0,0.75,K=5,verbose=True)"
   ]
  },
  {
   "cell_type": "markdown",
   "metadata": {},
   "source": [
    "## Grid Search Model"
   ]
  },
  {
   "cell_type": "code",
   "execution_count": 139,
   "metadata": {},
   "outputs": [],
   "source": [
    "#1 Architecture\n",
    "Archis = [WeightAux(True,True),WeightAux(True,False),WeightAux(False,True),WeightAux(False,False)]\n",
    "#2 Comparison Loss Function\n",
    "CompLoss = [nn.CrossEntropyLoss]\n",
    "#3 Optimizers\n",
    "Optimizers = [optim.SGD,optim.Adam,optim.Adagrad,optim.AdamW]\n",
    "#4 Learning Rates\n",
    "LRs = [1e-4,1e-3,1e-2,1e-1,1]\n",
    "#5 Ratios\n",
    "Lambdas = [0.2,0.4,0.7,0.9]\n",
    "HYPER_PARAMS = [Archis,CompLoss,Optimizers,LRs,Lambdas]"
   ]
  },
  {
   "cell_type": "code",
   "execution_count": 140,
   "metadata": {},
   "outputs": [],
   "source": [
    "class Param():\n",
    "    hyper_params = HYPER_PARAMS\n",
    "    @staticmethod\n",
    "    def parse(classi):\n",
    "        return str(classi).split('.')[-1].split(\"'\")[0]\n",
    "    def __init__(self,arch,loss,optimizer,lr,lambd_):\n",
    "        self.params = {\"arch\":arch,\n",
    "                       \"loss\":loss,\n",
    "                       \"optim\":optimizer,\n",
    "                       \"lr\":lr,\n",
    "                       \"lambda\":lambd_}\n",
    "        self.scores = []\n",
    "        self.score_mean = -1\n",
    "    def get_params(self):\n",
    "        return list(self.params.values())\n",
    "        \n",
    "    def set_scores(self,scores):\n",
    "        self.scores = scores.tolist()\n",
    "        self.score_mean = scores.mean().item()\n",
    "        self.score_std = scores.std().item()\n",
    "                \n",
    "         \n",
    "    def __str__(self):\n",
    "        returned = \"{}_{}_{}_{}_{}_#score#_{}\".format(Param.parse(self.params[\"arch\"]),\n",
    "                                               Param.parse(self.params[\"loss\"]),\n",
    "                                               Param.parse(self.params[\"optim\"]),\n",
    "                                               self.params[\"lr\"],\n",
    "                                               self.params[\"lambda\"],\n",
    "                                               self.score_mean)\n",
    "        return returned\n",
    "    def __repr__(self):\n",
    "        return str(self)\n"
   ]
  },
  {
   "cell_type": "code",
   "execution_count": 141,
   "metadata": {},
   "outputs": [],
   "source": [
    "HYPER_GRID = torch.empty(len(Archis),len(CompLoss),len(Optimizers),len(LRs),len(Lambdas)).tolist()\n",
    "for a,archi in enumerate(Archis):\n",
    "    for b,loss in enumerate(CompLoss):\n",
    "        for c,optim_ in enumerate(Optimizers):\n",
    "            for d,lr in enumerate(LRs):\n",
    "                for e,lambd_ in enumerate(Lambdas):\n",
    "                    HYPER_GRID[a][b][c][d][e] = Param(archi,loss,optim_,lr,lambd_)"
   ]
  },
  {
   "cell_type": "code",
   "execution_count": 142,
   "metadata": {},
   "outputs": [],
   "source": [
    "def lin_view(HYPER_GRID):\n",
    "    linHGRID = [e for a in HYPER_GRID for b in a for c in b for d in c for e in d]\n",
    "    return linHGRID"
   ]
  },
  {
   "cell_type": "code",
   "execution_count": 143,
   "metadata": {},
   "outputs": [],
   "source": [
    "def GridSearch(linGRID):\n",
    "    for i,param in enumerate(linGRID):\n",
    "        clear_output(wait=True)\n",
    "        print(\"Grid Search progression: {} %\".format(i/len(linGRID)*100))\n",
    "        arch,loss,opt,lr,lambd_ = param.get_params()\n",
    "        scores = Kfold_CVdouble(train2_input,train2_target,train2_classes,\\\n",
    "                arch,loss,opt,lr,lambd_,K=5,verbose=False)\n",
    "        param.set_scores(scores)\n",
    "    \n",
    "    with open('./results/HYPERPARAM.pkl', 'wb') as f:\n",
    "        pickle.dump(HYPER_GRID,f)\n",
    "    print(\"Grid Search done! Hyperparam saved.\")"
   ]
  },
  {
   "cell_type": "code",
   "execution_count": 144,
   "metadata": {},
   "outputs": [
    {
     "name": "stdout",
     "output_type": "stream",
     "text": [
      "Grid Search progression: 50.0 %\n",
      "Grid Search done! Hyperparam saved.\n"
     ]
    }
   ],
   "source": [
    "linGRID = lin_view(HYPER_GRID)[:2]\n",
    "GridSearch(linGRID)"
   ]
  },
  {
   "cell_type": "code",
   "execution_count": 146,
   "metadata": {},
   "outputs": [],
   "source": [
    "def GetMax(HYPER_GRID):\n",
    "    return max(lin_view(HYPER_GRID),key = lambda x:x.score_mean)"
   ]
  },
  {
   "cell_type": "code",
   "execution_count": 147,
   "metadata": {},
   "outputs": [],
   "source": [
    "bestparam = GetMax(HYPER_GRID)"
   ]
  },
  {
   "cell_type": "code",
   "execution_count": 33,
   "metadata": {},
   "outputs": [
    {
     "name": "stdout",
     "output_type": "stream",
     "text": [
      "Progression:96.00\n",
      "####################Train accuracy:####################\n",
      "Accuracy 1st Network:    1.00   \n",
      "Accuracy 2nd Network:    1.00   \n",
      "Accuracy comparison:     0.98    \n",
      "####################Test accuracy:####################\n",
      "Accuracy 1st Network:    0.90   \n",
      "Accuracy 2nd Network:    0.91   \n",
      "Accuracy comparison:     0.83    \n"
     ]
    }
   ],
   "source": [
    "net,loss,opt,lr,lambd = bestparam.get_params()\n",
    "net_dropout = WeightAux()\n",
    "train_double_model(train2_input,train2_target,train2_classes,\\\n",
    "                   net,loss,opt,lr=lr,lambd_=lambd,nb_epochs=25,verbose=True)\n",
    "print(sep + \"Train accuracy:\" + sep)\n",
    "accuracy_double_model(net,train2_input,train2_target,train2_classes,verbose=True)\n",
    "print(sep+ \"Test accuracy:\" + sep)\n",
    "_ = accuracy_double_model(net,test2_input,test2_target,test2_classes,verbose=True)"
   ]
  },
  {
   "cell_type": "markdown",
   "metadata": {},
   "source": [
    "## Genetic Algorithm"
   ]
  },
  {
   "cell_type": "markdown",
   "metadata": {},
   "source": [
    "START<br>\n",
    "Generate the initial population<br>\n",
    "Compute fitness<br>\n",
    "REPEAT<br>\n",
    "    Selection<br>\n",
    "    Crossover<br>\n",
    "    Mutation<br>\n",
    "    Compute fitness<br>\n",
    "UNTIL population has converged<br>\n",
    "STOP<br>"
   ]
  },
  {
   "cell_type": "markdown",
   "metadata": {},
   "source": [
    "We apply elitist selection with hyper-hyper parameter ratio = 0.5"
   ]
  },
  {
   "cell_type": "code",
   "execution_count": null,
   "metadata": {},
   "outputs": [],
   "source": [
    "def generate_population(n_pop=100):\n",
    "    rando = lambda x: \n",
    "    pop = []\n",
    "    for i in range(n_pop):\n",
    "        arch,loss,opti,lr,lambd_ = [rando(i) for i in HYPER_PARAMS] \n",
    "        pop.append(Param(arch,loss,opti,lr,lambd_))\n",
    "    return pop"
   ]
  },
  {
   "cell_type": "code",
   "execution_count": null,
   "metadata": {},
   "outputs": [],
   "source": [
    "def mutate(param):\n",
    "    i = rando(len(HYPER_PARAMS))\n",
    "    param"
   ]
  },
  {
   "cell_type": "code",
   "execution_count": null,
   "metadata": {},
   "outputs": [],
   "source": [
    "def compute_fitness(population) #eq to gridsearch"
   ]
  },
  {
   "cell_type": "code",
   "execution_count": null,
   "metadata": {},
   "outputs": [],
   "source": [
    "def selection(population,selec_ratio):\n",
    "    #sort population\n",
    "    \n",
    "    #return top ratio\n",
    "    "
   ]
  },
  {
   "cell_type": "code",
   "execution_count": null,
   "metadata": {},
   "outputs": [],
   "source": [
    "def crossover(top_population):\n",
    "   # given a top_population, generate back a population "
   ]
  }
 ],
 "metadata": {
  "kernelspec": {
   "display_name": "Python [conda env:ML] *",
   "language": "python",
   "name": "conda-env-ML-py"
  },
  "language_info": {
   "codemirror_mode": {
    "name": "ipython",
    "version": 3
   },
   "file_extension": ".py",
   "mimetype": "text/x-python",
   "name": "python",
   "nbconvert_exporter": "python",
   "pygments_lexer": "ipython3",
   "version": "3.7.4"
  }
 },
 "nbformat": 4,
 "nbformat_minor": 4
}
