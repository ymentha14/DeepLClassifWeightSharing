{
 "cells": [
  {
   "cell_type": "code",
   "execution_count": 1,
   "metadata": {},
   "outputs": [],
   "source": [
    "import torch\n",
    "import torch.nn as nn\n",
    "from IPython.display import clear_output\n",
    "from IPython.core.debugger import set_trace\n",
    "from torch.nn import functional as F\n",
    "from torch import optim\n",
    "import math\n",
    "\n",
    "%load_ext autoreload\n",
    "%autoreload 2\n",
    "import dlc_practical_prologue as dl"
   ]
  },
  {
   "cell_type": "code",
   "execution_count": 8,
   "metadata": {},
   "outputs": [
    {
     "name": "stdout",
     "output_type": "stream",
     "text": [
      "* Using MNIST\n",
      "** Reduce the data-set (use --full for the full thing)\n",
      "** Use 1000 train and 1000 test samples\n"
     ]
    }
   ],
   "source": [
    "train_input, train_target, test_input, test_target = dl.load_data(flatten=False)"
   ]
  },
  {
   "cell_type": "code",
   "execution_count": 9,
   "metadata": {},
   "outputs": [],
   "source": [
    "class LeNet(nn.Module):\n",
    "    def __init__(self):\n",
    "        super(LeNet, self).__init__()\n",
    "        self.block1 = nn.Sequential(nn.Conv2d(1,32, kernel_size=5,stride=1),\n",
    "                                    nn.MaxPool2d(kernel_size=2,stride=2),\n",
    "                                    nn.BatchNorm2d(32),\n",
    "                                    nn.ReLU())\n",
    "        self.block2 = nn.Sequential(nn.Conv2d(32,16, kernel_size=5,stride=1),\n",
    "                                    nn.MaxPool2d(kernel_size=2,stride=2),\n",
    "                                    nn.BatchNorm2d(16),\n",
    "                                    nn.ReLU())\n",
    "        self.lins = nn.Sequential(nn.Linear(256, 84),\n",
    "                                  nn.ReLU(),\n",
    "                                  nn.Linear(84, 10))\n",
    "\n",
    "    def forward(self, x):\n",
    "        x = self.block1(x)\n",
    "        x = self.block2(x)\n",
    "        x = self.lins(x.view(-1,256))\n",
    "        return x"
   ]
  },
  {
   "cell_type": "code",
   "execution_count": 10,
   "metadata": {},
   "outputs": [],
   "source": [
    "class Net2(nn.Module):\n",
    "    def __init__(self,n_hidden = 100,chan = 1):\n",
    "        super(Net2,self).__init__()\n",
    "        self.hidden = n_hidden\n",
    "        self.conv_block1 = nn.Sequential(\n",
    "            nn.Conv2d(chan,32,kernel_size=3),\n",
    "            nn.MaxPool2d(kernel_size=2,stride=2),\n",
    "            nn.BatchNorm2d(32),\n",
    "            nn.ReLU()\n",
    "        )\n",
    "        self.conv_block2 = nn.Sequential(\n",
    "            nn.Conv2d(32,64,kernel_size=3),\n",
    "            nn.MaxPool2d(kernel_size=2,stride=2)\n",
    "            ,nn.BatchNorm2d(64)\n",
    "        )\n",
    "        self.classifier = nn.Sequential(\n",
    "            nn.Linear(1600,n_hidden),\n",
    "           # nn.Dropout(0.5),\n",
    "            nn.Linear(n_hidden,10)\n",
    "            #nn.Softmax2d()\n",
    "        )\n",
    "    def forward(self,x):\n",
    "        x = self.conv_block1(x)\n",
    "        x = self.conv_block2(x)\n",
    "        x = self.classifier(x.view(x.size(0),-1))\n",
    "        return x"
   ]
  },
  {
   "cell_type": "code",
   "execution_count": 11,
   "metadata": {},
   "outputs": [],
   "source": [
    "def train_model(model,train_input,train_target,nb_epochs=5):\n",
    "    optimizer = optim.SGD(model.parameters(), lr = 1e-1)\n",
    "    batch_size = 100\n",
    "    criterion = nn.CrossEntropyLoss()\n",
    "    for e in range(nb_epochs):\n",
    "        clear_output(wait=True)\n",
    "        print(\"Progression:{:.2f}\".format(e/nb_epochs*100))\n",
    "        for inputs,targets in zip(train_input.split(batch_size),\n",
    "                            train_target.split(batch_size)):\n",
    "            output = model(inputs)\n",
    "            loss = criterion(output,targets)\n",
    "            model.zero_grad()\n",
    "            loss.backward()\n",
    "            optimizer.step()"
   ]
  },
  {
   "cell_type": "code",
   "execution_count": 32,
   "metadata": {},
   "outputs": [],
   "source": [
    "def get_accuracy(model,inputs,targets):\n",
    "    assert(inputs.size(0) == targets.size(0))\n",
    "    tot_loss = 0\n",
    "    nb_correct = 0\n",
    "    batch_size = 20\n",
    "    for train,target in zip(inputs.split(batch_size),\n",
    "                           targets.split(batch_size)):\n",
    "        pred = model(train)\n",
    "        pred = torch.argmax(pred,axis = 1)\n",
    "        nb_correct += (pred == target).int().sum().item()\n",
    "    accuracy = nb_correct /inputs.size(0)\n",
    "    print(\"accuracy: %.2f\" % (accuracy) )\n",
    "    return accuracy"
   ]
  },
  {
   "cell_type": "code",
   "execution_count": 40,
   "metadata": {},
   "outputs": [],
   "source": [
    "def Kfold_CV(classtype,inputs,targets,K=4):\n",
    "    assert(K>=2)\n",
    "    N = inputs.size(0)\n",
    "    indxes = torch.randperm(N)\\\n",
    "                  .split(int(N/K))\n",
    "    accs = torch.empty(K)\n",
    "    for k in range(K):\n",
    "        model = classtype()\n",
    "        \n",
    "        test_indx = indxes[k]\n",
    "        train_indx = torch.cat((indxes[:k]+indxes[k+1:]),0)\n",
    "        \n",
    "        train_inp,train_targ = inputs[train_indx],targets[train_indx]\n",
    "        test_inp,test_targ = inputs[test_indx],targets[test_indx]\n",
    "        train_model(model,train_inp,train_targ)\n",
    "        acc = get_accuracy(model,train_inp,train_targ)\n",
    "        accs[k] = acc\n",
    "    print(\"Accuracies for {}-fold:{}\".format(K,accs.tolist()))\n",
    "    print(\"Mean acc:{}\".format(accs.mean()))"
   ]
  },
  {
   "cell_type": "code",
   "execution_count": 41,
   "metadata": {},
   "outputs": [
    {
     "name": "stdout",
     "output_type": "stream",
     "text": [
      "Progression:80.00\n",
      "accuracy: 0.99\n",
      "Accuracies for 4-fold:[0.9973333477973938, 0.9946666955947876, 0.9946666955947876, 0.9919999837875366]\n",
      "Mean acc:0.9946666955947876\n"
     ]
    }
   ],
   "source": [
    "Kfold_CV(Net2,train_input,train_target)"
   ]
  },
  {
   "cell_type": "code",
   "execution_count": 35,
   "metadata": {},
   "outputs": [
    {
     "name": "stdout",
     "output_type": "stream",
     "text": [
      "Progression:80.00\n",
      "accuracy: 0.99\n"
     ]
    },
    {
     "data": {
      "text/plain": [
       "0.994"
      ]
     },
     "execution_count": 35,
     "metadata": {},
     "output_type": "execute_result"
    }
   ],
   "source": [
    "model = Net2()\n",
    "train_model(model,train_input[indxes][:500],train_target[indxes][:500])\n",
    "get_accuracy(model,train_input[indxes][:500],train_target[indxes][:500])"
   ]
  },
  {
   "cell_type": "code",
   "execution_count": 24,
   "metadata": {},
   "outputs": [
    {
     "name": "stdout",
     "output_type": "stream",
     "text": [
      "Progression:80.00\n",
      "accuracy: 0.50\n"
     ]
    }
   ],
   "source": [
    "N = train_input.size(0)\n",
    "indxes = torch.randperm(N)\\\n",
    "              .split(int(N/2))\n",
    "model = Net2()\n",
    "\n",
    "test_indx = indxes[0]\n",
    "train_indx = torch.cat((indxes[:0]+indxes[1:]),0)\n",
    "\n",
    "train_inp,train_targ = train_input[train_indx],train_target[train_indx]\n",
    "test_inp,test_targ = train_input[test_indx],train_target[test_indx]\n",
    "train_model(model,train_inp,train_targ)\n",
    "acc = get_accuracy(model,train_inp,train_targ)"
   ]
  },
  {
   "cell_type": "code",
   "execution_count": 27,
   "metadata": {},
   "outputs": [
    {
     "data": {
      "text/plain": [
       "tensor([155, 911, 960, 199, 427, 495, 201, 348, 722, 659, 927, 132, 547, 161,\n",
       "        235, 126, 666,  93, 642, 839, 553, 479, 335, 108, 231,   8, 836, 539,\n",
       "        650, 210, 329, 801, 660, 891, 871, 804, 380, 800, 756, 179, 386, 670,\n",
       "        175,  95, 906, 892, 658, 250, 417, 959, 887, 399, 454, 292,  56, 783,\n",
       "        619, 261, 167, 187, 274, 381, 226,  53, 686, 878, 957, 573, 398, 359,\n",
       "        664, 423, 343, 815, 655,  13, 312, 603, 415, 103, 834, 770, 758, 995,\n",
       "        419, 773,  91, 618,  27, 987,  52, 797, 868, 727, 104, 296, 925, 273,\n",
       "        934, 537, 703, 968, 476, 182, 530, 828, 151, 825, 450, 416, 723, 654,\n",
       "        326, 761, 357,   2,  61, 331, 969,  96, 137, 146, 394, 982, 321, 521,\n",
       "        180, 506, 185, 683, 421, 452, 744, 605, 558, 685, 590, 220,  82, 557,\n",
       "        156, 894, 129, 254, 926, 693, 318, 838, 159, 402, 572, 542, 289, 511,\n",
       "        798, 984, 657, 819, 516, 989, 431, 447, 567, 480, 458, 678, 485, 544,\n",
       "        765, 725, 813, 653, 812, 378, 323, 581, 912, 656, 954,  64,  58, 736,\n",
       "        945, 284, 459, 172, 520, 564, 529, 436, 309, 606,  54, 355, 749, 533,\n",
       "        699, 832, 889, 147, 337, 845,  40, 259, 517, 772, 162,  33, 831, 610,\n",
       "        287, 852, 272, 633, 854, 929, 932, 204, 164, 928, 391,  87, 353, 382,\n",
       "        914, 334, 124, 896, 734, 406, 940, 481,  42, 820, 365, 963,  79, 136,\n",
       "        257, 264, 864, 865, 128, 405,   0, 716, 621, 721, 576, 135, 827, 446,\n",
       "        315, 774,  81, 771, 193, 368, 294,  66, 933, 221, 286, 327, 902, 789,\n",
       "        858, 632, 700, 698, 550, 613, 601, 191, 488, 548, 377, 635, 991,  21,\n",
       "        754, 397, 856, 710, 344, 883, 519, 153, 731, 674, 213, 766, 627,  18,\n",
       "        514, 596,  68, 253, 939, 762, 224, 232, 200, 792, 497, 861, 208, 682,\n",
       "        367,   7, 453, 778,  92, 807, 848, 238, 316, 299, 105, 270,  24, 242,\n",
       "         41, 262, 847, 646, 330, 448, 898, 745, 696, 216, 403, 996, 467,  89,\n",
       "        319, 796, 690, 165, 691, 876,  44,  70, 117, 432, 110,   4, 739, 291,\n",
       "        806, 369, 430,  48, 158, 475, 962, 393, 888, 212, 366, 791, 904, 388,\n",
       "        420, 752, 248, 817, 195,  62, 228, 976, 652, 818, 277, 636, 941, 504,\n",
       "        333,  28, 988, 145, 814,  71, 918, 509, 218, 491, 893, 413, 750, 755,\n",
       "        470, 214, 439, 346, 729, 293, 535, 555, 780, 269, 455, 396, 992, 341,\n",
       "        909, 714, 607, 583, 518,  17, 724, 733, 849, 328, 524, 487, 805, 741,\n",
       "        985, 483, 661, 794, 651, 880, 588, 885, 837, 949, 536, 437, 285, 884,\n",
       "        886, 614, 997, 990, 628, 788,  85, 471, 952, 499, 532, 127, 300, 617,\n",
       "        236, 428, 580, 647,  16,  59,  32, 816, 119, 948, 556, 163, 809, 708,\n",
       "        171, 478, 385, 189, 546, 897, 545, 313, 207, 308, 424, 730, 972, 338,\n",
       "        540, 793, 107, 843, 538, 342, 202, 662, 324, 375, 830, 760, 140, 735,\n",
       "        256, 717,  12, 120, 177, 742, 463, 551, 477, 648])"
      ]
     },
     "execution_count": 27,
     "metadata": {},
     "output_type": "execute_result"
    }
   ],
   "source": [
    "train_indx"
   ]
  },
  {
   "cell_type": "code",
   "execution_count": null,
   "metadata": {},
   "outputs": [],
   "source": []
  }
 ],
 "metadata": {
  "kernelspec": {
   "display_name": "Python [conda env:ML] *",
   "language": "python",
   "name": "conda-env-ML-py"
  },
  "language_info": {
   "codemirror_mode": {
    "name": "ipython",
    "version": 3
   },
   "file_extension": ".py",
   "mimetype": "text/x-python",
   "name": "python",
   "nbconvert_exporter": "python",
   "pygments_lexer": "ipython3",
   "version": "3.7.4"
  }
 },
 "nbformat": 4,
 "nbformat_minor": 4
}
